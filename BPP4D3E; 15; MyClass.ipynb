{
 "cells": [
  {
   "cell_type": "markdown",
   "metadata": {},
   "source": [
    "# Creating and Using an External Class"
   ]
  },
  {
   "cell_type": "markdown",
   "metadata": {},
   "source": [
    "## Developing the external class"
   ]
  },
  {
   "cell_type": "markdown",
   "metadata": {},
   "source": [
    "### Defining the MyClass class"
   ]
  },
  {
   "cell_type": "code",
   "execution_count": 1,
   "metadata": {},
   "outputs": [],
   "source": [
    "class MyClass:\n",
    "   def __init__(self, Name=\"Sam\", Age=32):\n",
    "      self.Name = Name\n",
    "      self.Age = Age\n",
    "   def GetName(self):\n",
    "      return self.Name\n",
    "   def SetName(self, Name):\n",
    "      self.Name = Name\n",
    "   def GetAge(self):\n",
    "      return self.Age\n",
    "   def SetAge(self, Age):\n",
    "      self.Age = Age\n",
    "   def __str__(self):\n",
    "      return \"{0} is aged {1}.\".format(self.Name,\n",
    "                                       self.Age)"
   ]
  },
  {
   "cell_type": "code",
   "execution_count": null,
   "metadata": {
    "collapsed": true
   },
   "outputs": [],
   "source": []
  }
 ],
 "metadata": {
  "kernelspec": {
   "display_name": "Python 3",
   "language": "python",
   "name": "python3"
  },
  "language_info": {
   "codemirror_mode": {
    "name": "ipython",
    "version": 3
   },
   "file_extension": ".py",
   "mimetype": "text/x-python",
   "name": "python",
   "nbconvert_exporter": "python",
   "pygments_lexer": "ipython3",
   "version": "3.8.3"
  }
 },
 "nbformat": 4,
 "nbformat_minor": 2
}

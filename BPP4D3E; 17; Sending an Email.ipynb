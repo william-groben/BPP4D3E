{
 "cells": [
  {
   "cell_type": "markdown",
   "metadata": {},
   "source": [
    "# Understanding What Happens When You Send E-mail"
   ]
  },
  {
   "cell_type": "markdown",
   "metadata": {},
   "source": [
    "## Defining the parts of the envelope"
   ]
  },
  {
   "cell_type": "markdown",
   "metadata": {},
   "source": [
    "### Host"
   ]
  },
  {
   "cell_type": "code",
   "execution_count": 1,
   "metadata": {},
   "outputs": [
    {
     "name": "stdout",
     "output_type": "stream",
     "text": [
      "127.0.0.1\n",
      "('MAIN', [], ['127.0.0.1'])\n"
     ]
    }
   ],
   "source": [
    "import socket\n",
    "print(socket.gethostbyname(\"localhost\"))\n",
    "print(socket.gethostbyaddr(\"127.0.0.1\"))"
   ]
  },
  {
   "cell_type": "code",
   "execution_count": 2,
   "metadata": {},
   "outputs": [
    {
     "name": "stdout",
     "output_type": "stream",
     "text": [
      "72.167.241.46\n"
     ]
    }
   ],
   "source": [
    "print(socket.gethostbyname(\"www.johnmuellerbooks.com\"))"
   ]
  },
  {
   "cell_type": "markdown",
   "metadata": {},
   "source": [
    "### Port"
   ]
  },
  {
   "cell_type": "code",
   "execution_count": 3,
   "metadata": {},
   "outputs": [
    {
     "data": {
      "text/plain": [
       "[(<AddressFamily.AF_INET6: 23>, 0, 0, '', ('::1', 110, 0, 0)),\n",
       " (<AddressFamily.AF_INET: 2>, 0, 0, '', ('127.0.0.1', 110))]"
      ]
     },
     "execution_count": 3,
     "metadata": {},
     "output_type": "execute_result"
    }
   ],
   "source": [
    "import socket\n",
    "socket.getaddrinfo(\"localhost\", 110)"
   ]
  },
  {
   "cell_type": "code",
   "execution_count": 4,
   "metadata": {},
   "outputs": [
    {
     "data": {
      "text/plain": [
       "[(<AddressFamily.AF_INET: 2>, 0, 0, '', ('72.167.241.46', 80))]"
      ]
     },
     "execution_count": 4,
     "metadata": {},
     "output_type": "execute_result"
    }
   ],
   "source": [
    "socket.getaddrinfo(\"johnmuellerbooks.com\", 80)"
   ]
  },
  {
   "cell_type": "code",
   "execution_count": 5,
   "metadata": {},
   "outputs": [
    {
     "data": {
      "text/plain": [
       "'smtp'"
      ]
     },
     "execution_count": 5,
     "metadata": {},
     "output_type": "execute_result"
    }
   ],
   "source": [
    "socket.getservbyport(25)"
   ]
  },
  {
   "cell_type": "markdown",
   "metadata": {},
   "source": [
    "### Local hostname"
   ]
  },
  {
   "cell_type": "code",
   "execution_count": 6,
   "metadata": {},
   "outputs": [
    {
     "data": {
      "text/plain": [
       "'MAIN'"
      ]
     },
     "execution_count": 6,
     "metadata": {},
     "output_type": "execute_result"
    }
   ],
   "source": [
    "import socket\n",
    "socket.gethostname()"
   ]
  },
  {
   "cell_type": "code",
   "execution_count": 7,
   "metadata": {},
   "outputs": [
    {
     "data": {
      "text/plain": [
       "'192.168.0.103'"
      ]
     },
     "execution_count": 7,
     "metadata": {},
     "output_type": "execute_result"
    }
   ],
   "source": [
    "socket.gethostbyname(socket.gethostname())"
   ]
  },
  {
   "cell_type": "markdown",
   "metadata": {},
   "source": [
    "## Defining the parts of the letter"
   ]
  },
  {
   "cell_type": "markdown",
   "metadata": {},
   "source": [
    "### Defining the message"
   ]
  },
  {
   "cell_type": "code",
   "execution_count": 8,
   "metadata": {},
   "outputs": [
    {
     "data": {
      "text/plain": [
       "'Content-Type: text/plain; charset=\"us-ascii\"\\nMIME-Version: 1.0\\nContent-Transfer-Encoding: 7bit\\nSubject: A Test Message\\nFrom: John Mueller <John@JohnMuellerBooks.com>\\nTo: John Mueller <John@JohnMuellerBooks.com>\\n\\nHello There'"
      ]
     },
     "execution_count": 8,
     "metadata": {},
     "output_type": "execute_result"
    }
   ],
   "source": [
    "from email.mime.text import MIMEText\n",
    "msg = MIMEText(\"Hello There\")\n",
    "msg['Subject'] = \"A Test Message\"\n",
    "msg['From']='John Mueller ' + \\\n",
    "    '<John@JohnMuellerBooks.com>'\n",
    "msg['To'] = 'John Mueller ' + \\\n",
    "    '<John@JohnMuellerBooks.com>'\n",
    "\n",
    "msg.as_string()"
   ]
  },
  {
   "cell_type": "markdown",
   "metadata": {},
   "source": [
    "### Specifying the transmission\n",
    "To make this part of the code work, you must create an SMTP server at an alternate port (1025 in this case), rather than rely on port 25, by opening an Anaconda Prompt and typing `python -m smtpd -n -c DebuggingServer localhost:1025` at the command line, then pressing Enter."
   ]
  },
  {
   "cell_type": "code",
   "execution_count": 9,
   "metadata": {},
   "outputs": [
    {
     "data": {
      "text/plain": [
       "{}"
      ]
     },
     "execution_count": 9,
     "metadata": {},
     "output_type": "execute_result"
    }
   ],
   "source": [
    "import smtplib\n",
    "s = smtplib.SMTP('localhost', 1025)\n",
    "\n",
    "s.sendmail('SenderAddress', \n",
    "           ['RecipientAddress'], \n",
    "           msg.as_string())"
   ]
  },
  {
   "cell_type": "markdown",
   "metadata": {},
   "source": [
    "## Putting everything together for text messages"
   ]
  },
  {
   "cell_type": "code",
   "execution_count": 10,
   "metadata": {},
   "outputs": [
    {
     "name": "stdout",
     "output_type": "stream",
     "text": [
      "Message Sent!\n"
     ]
    }
   ],
   "source": [
    "from email.mime.text import MIMEText\n",
    "import smtplib\n",
    "\n",
    "msg = MIMEText(\"Hello There\")\n",
    "msg['Subject'] = \"A Test Message\"\n",
    "msg['From']='SenderAddress'\n",
    "msg['To'] = 'RecipientAddress'\n",
    "\n",
    "s = smtplib.SMTP('localhost', 1025)\n",
    "\n",
    "s.sendmail('SenderAddress', \n",
    "           ['RecipientAddress'], \n",
    "           msg.as_string())\n",
    "\n",
    "print(\"Message Sent!\")"
   ]
  },
  {
   "cell_type": "markdown",
   "metadata": {},
   "source": [
    "## Working with an HTML message"
   ]
  },
  {
   "cell_type": "code",
   "execution_count": 11,
   "metadata": {},
   "outputs": [
    {
     "name": "stdout",
     "output_type": "stream",
     "text": [
      "Message Sent!\n"
     ]
    }
   ],
   "source": [
    "from email.mime.text import MIMEText\n",
    "import smtplib\n",
    "\n",
    "msg = MIMEText(\n",
    "   \"<h1>A Heading</h1><p>Hello There!</p>\",\"html\")\n",
    "msg['Subject'] = 'A Test HTML Message'\n",
    "msg['From']='SenderAddress'\n",
    "msg['To'] = 'RecipientAddress'\n",
    "\n",
    "s = smtplib.SMTP('localhost', 1025)\n",
    "s.sendmail('SenderAddress',\n",
    "           ['RecipientAddress'],\n",
    "           msg.as_string())\n",
    "\n",
    "print(\"Message Sent!\")"
   ]
  },
  {
   "cell_type": "code",
   "execution_count": null,
   "metadata": {},
   "outputs": [],
   "source": []
  }
 ],
 "metadata": {
  "kernelspec": {
   "display_name": "Python 3",
   "language": "python",
   "name": "python3"
  },
  "language_info": {
   "codemirror_mode": {
    "name": "ipython",
    "version": 3
   },
   "file_extension": ".py",
   "mimetype": "text/x-python",
   "name": "python",
   "nbconvert_exporter": "python",
   "pygments_lexer": "ipython3",
   "version": "3.8.3"
  }
 },
 "nbformat": 4,
 "nbformat_minor": 2
}

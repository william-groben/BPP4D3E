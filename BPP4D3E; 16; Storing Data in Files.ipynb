{
 "cells": [
  {
   "cell_type": "markdown",
   "metadata": {},
   "source": [
    "# Creating Content for Permanent Storage"
   ]
  },
  {
   "cell_type": "code",
   "execution_count": 1,
   "metadata": {},
   "outputs": [],
   "source": [
    "class FormatData:\n",
    "   def __init__(self, Name=\"\", Age=0, Married=False):\n",
    "      self.Name = Name\n",
    "      self.Age = Age\n",
    "      self.Married = Married\n",
    "   def __str__(self):\n",
    "      OutString = \"'{0}', {1}, {2}\".format(\n",
    "         self.Name,\n",
    "         self.Age,\n",
    "         self.Married)\n",
    "      return OutString"
   ]
  },
  {
   "cell_type": "code",
   "execution_count": 2,
   "metadata": {},
   "outputs": [
    {
     "name": "stdout",
     "output_type": "stream",
     "text": [
      "'George', 65, True\n",
      "'Sally', 47, False\n",
      "'Doug', 52, True\n"
     ]
    }
   ],
   "source": [
    "NewData = [FormatData(\"George\", 65, True),\n",
    "           FormatData(\"Sally\", 47, False),\n",
    "           FormatData(\"Doug\", 52, True)]\n",
    "for Entry in NewData:\n",
    "   print(Entry)"
   ]
  },
  {
   "cell_type": "markdown",
   "metadata": {},
   "source": [
    "# Creating a File"
   ]
  },
  {
   "cell_type": "code",
   "execution_count": 3,
   "metadata": {},
   "outputs": [],
   "source": [
    "import csv\n",
    "\n",
    "class FormatData2:\n",
    "   def __init__(self, Name=\"\", Age=0, Married=False):\n",
    "      self.Name = Name\n",
    "      self.Age = Age\n",
    "      self.Married = Married\n",
    "        \n",
    "   def __str__(self):\n",
    "      OutString = \"'{0}', {1}, {2}\".format(\n",
    "         self.Name,\n",
    "         self.Age,\n",
    "         self.Married)\n",
    "      return OutString\n",
    "\n",
    "   def SaveData(Filename = \"\", DataList = []):\n",
    "       with open(Filename,\n",
    "                 \"w\", newline='\\n') as csvfile:\n",
    "          DataWriter = csv.writer(\n",
    "             csvfile,\n",
    "             delimiter='\\n',\n",
    "             quotechar=\" \",\n",
    "             quoting=csv.QUOTE_NONNUMERIC)\n",
    "          DataWriter.writerow(DataList)\n",
    "          csvfile.close()\n",
    "          print(\"Data saved!\")"
   ]
  },
  {
   "cell_type": "code",
   "execution_count": 4,
   "metadata": {},
   "outputs": [
    {
     "name": "stdout",
     "output_type": "stream",
     "text": [
      "Data saved!\n"
     ]
    }
   ],
   "source": [
    "NewData = [FormatData2(\"George\", 65, True),\n",
    "           FormatData2(\"Sally\", 47, False),\n",
    "           FormatData2(\"Doug\", 52, True)]\n",
    "FormatData2.SaveData(\"TestFile.csv\", NewData)"
   ]
  },
  {
   "cell_type": "markdown",
   "metadata": {},
   "source": [
    "# Sidebar: *Local File Storage: Colab versus Jupyter Notebook*"
   ]
  },
  {
   "cell_type": "code",
   "execution_count": 5,
   "metadata": {},
   "outputs": [
    {
     "name": "stdout",
     "output_type": "stream",
     "text": [
      "C:\\Users\\John\\Anaconda Projects\\BPP4D3E\n",
      "['.ipynb_checkpoints', 'BPP4D3E; 02; Colab Examples.ipynb', 'BPP4D3E; 03; Working with Commands.ipynb', 'BPP4D3E; 04; Comments.ipynb', 'BPP4D3E; 04; Indentation.ipynb', 'BPP4D3E; 04; Sample.ipynb', 'BPP4D3E; 05; Magics.ipynb', 'BPP4D3E; 06; Storing And Modifying Information.ipynb', 'BPP4D3E; 07; Managing Information.ipynb', 'BPP4D3E; 08; Making Decisions.ipynb', 'BPP4D3E; 09; Performing Repetitive Tasks.ipynb', 'BPP4D3E; 10; Dealing with Errors.ipynb', 'BPP4D3E; 11; Interacting with Packages.ipynb', 'BPP4D3E; 11; Packages.ipynb', 'BPP4D3E; 12; Working with Strings.ipynb', 'BPP4D3E; 13; Managing Lists.ipynb', 'BPP4D3E; 14; Collection All Sorts of Data.ipynb', 'BPP4D3E; 15; Creating and Using Classes.ipynb', 'BPP4D3E; 15; MyClass.ipynb', 'BPP4D3E; 16; Storing Data in Files.ipynb', 'BPP4D3E_11_Packages.py', 'BPP4D3E_15_MyClass.py', 'BPPD_16_FormattedData.ipynb', 'BPPD_16_FormattedData.py', 'TestFile.csv', '__pycache__']\n",
      "True\n"
     ]
    }
   ],
   "source": [
    "import os\n",
    "\n",
    "print(os.getcwd())\n",
    "\n",
    "DirList = os.listdir()\n",
    "print(DirList)\n",
    "print(\"TestFile.csv\" in DirList)"
   ]
  },
  {
   "cell_type": "markdown",
   "metadata": {},
   "source": [
    "# Reading File Content"
   ]
  },
  {
   "cell_type": "code",
   "execution_count": 6,
   "metadata": {},
   "outputs": [],
   "source": [
    "import csv\n",
    "\n",
    "class FormatData3:\n",
    "   def __init__(self, Name=\"\", Age=0, Married=False):\n",
    "      self.Name = Name\n",
    "      self.Age = Age\n",
    "      self.Married = Married\n",
    "        \n",
    "   def __str__(self):\n",
    "      OutString = \"'{0}', {1}, {2}\".format(\n",
    "         self.Name,\n",
    "         self.Age,\n",
    "         self.Married)\n",
    "      return OutString\n",
    "\n",
    "   def SaveData(Filename = \"\", DataList = []):\n",
    "       with open(Filename,\n",
    "                 \"w\", newline='\\n') as csvfile:\n",
    "          DataWriter = csv.writer(\n",
    "             csvfile,\n",
    "             delimiter='\\n',\n",
    "             quotechar=\" \",\n",
    "             quoting=csv.QUOTE_NONNUMERIC)\n",
    "          DataWriter.writerow(DataList)\n",
    "          csvfile.close()\n",
    "          print(\"Data saved!\")\n",
    "    \n",
    "   def ReadData(Filename = \"\"):\n",
    "       with open(Filename,\n",
    "                 \"r\", newline='\\n') as csvfile:\n",
    "          DataReader = csv.reader(\n",
    "             csvfile,\n",
    "             delimiter=\"\\n\",\n",
    "             quotechar=\" \",\n",
    "             quoting=csv.QUOTE_NONNUMERIC)\n",
    "          Output = []\n",
    "          for Item in DataReader:\n",
    "             Output.append(Item[0])\n",
    "          csvfile.close()\n",
    "          print(\"Data read!\")\n",
    "          return Output"
   ]
  },
  {
   "cell_type": "code",
   "execution_count": 7,
   "metadata": {},
   "outputs": [
    {
     "name": "stdout",
     "output_type": "stream",
     "text": [
      "Data read!\n",
      "'George', 65, True\n",
      "'Sally', 47, False\n",
      "'Doug', 52, True\n"
     ]
    }
   ],
   "source": [
    "NewData = FormatData3.ReadData(\"TestFile.csv\")\n",
    "for Entry in NewData:\n",
    "   print(Entry)"
   ]
  },
  {
   "cell_type": "markdown",
   "metadata": {},
   "source": [
    "# Updating File Content"
   ]
  },
  {
   "cell_type": "code",
   "execution_count": 8,
   "metadata": {},
   "outputs": [
    {
     "name": "stdout",
     "output_type": "stream",
     "text": [
      "Data read!\n",
      "'George', 65, True\n",
      "'Sally', 47, False\n",
      "'Doug', 52, True\n",
      "\r\n",
      "Adding a record for Harry.\n",
      "'George', 65, True\n",
      "'Sally', 47, False\n",
      "'Doug', 52, True\n",
      "'Harry', 23, False\n",
      "\r\n",
      "Removing Doug's record.\n",
      "'George', 65, True\n",
      "'Sally', 47, False\n",
      "'Harry', 23, False\n",
      "\r\n",
      "Modifying Sally's record.\n",
      "'George', 65, True\n",
      "'Harry', 23, False\n",
      "'Sally', 48, True\n",
      "Data saved!\n"
     ]
    }
   ],
   "source": [
    "import os.path\n",
    "\n",
    "if not os.path.isfile(\"TestFile.csv\"):\n",
    "   print(\"Please run the CreateFile.py example!\")\n",
    "   quit()\n",
    "\n",
    "NewData = FormatData3.ReadData(\"TestFile.csv\")\n",
    "for Entry in NewData:\n",
    "   print(Entry)\n",
    "\n",
    "print(\"\\r\\nAdding a record for Harry.\")\n",
    "NewRecord = \"'Harry', 23, False\"\n",
    "NewData.append(NewRecord)\n",
    "for Entry in NewData:\n",
    "   print(Entry)\n",
    "\n",
    "print(\"\\r\\nRemoving Doug's record.\")\n",
    "Location = NewData.index(\"'Doug', 52, True\")\n",
    "Record = NewData[Location]\n",
    "NewData.remove(Record)\n",
    "for Entry in NewData:\n",
    "   print(Entry)\n",
    "\n",
    "print(\"\\r\\nModifying Sally's record.\")\n",
    "Location = NewData.index(\"'Sally', 47, False\")\n",
    "Record = NewData[Location]\n",
    "Split = Record.split(\",\")\n",
    "NewRecord = FormatData3(Split[0].replace(\"'\", \"\"),\n",
    "                       int(Split[1]),\n",
    "                       bool(Split[2]))\n",
    "NewRecord.Married = True\n",
    "NewRecord.Age = 48\n",
    "NewData.append(NewRecord.__str__())\n",
    "NewData.remove(Record)\n",
    "for Entry in NewData:\n",
    "   print(Entry)\n",
    "\n",
    "FormatData3.SaveData(\"ChangedFile.csv\", NewData)"
   ]
  },
  {
   "cell_type": "markdown",
   "metadata": {},
   "source": [
    "# Deleting a File"
   ]
  },
  {
   "cell_type": "code",
   "execution_count": 9,
   "metadata": {},
   "outputs": [
    {
     "name": "stdout",
     "output_type": "stream",
     "text": [
      "File Removed!\n"
     ]
    }
   ],
   "source": [
    "import os\n",
    "os.remove(\"ChangedFile.csv\")\n",
    "print(\"File Removed!\")"
   ]
  },
  {
   "cell_type": "code",
   "execution_count": null,
   "metadata": {},
   "outputs": [],
   "source": []
  }
 ],
 "metadata": {
  "kernelspec": {
   "display_name": "Python 3",
   "language": "python",
   "name": "python3"
  },
  "language_info": {
   "codemirror_mode": {
    "name": "ipython",
    "version": 3
   },
   "file_extension": ".py",
   "mimetype": "text/x-python",
   "name": "python",
   "nbconvert_exporter": "python",
   "pygments_lexer": "ipython3",
   "version": "3.8.3"
  }
 },
 "nbformat": 4,
 "nbformat_minor": 2
}

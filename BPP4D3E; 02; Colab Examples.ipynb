{
 "cells": [
  {
   "cell_type": "markdown",
   "metadata": {
    "id": "JgC6NhFZeQ21"
   },
   "source": [
    "# This is a **Main** Heading\n",
    "## This is a *Second Level* Heading\n",
    "This is some text."
   ]
  },
  {
   "cell_type": "code",
   "execution_count": 1,
   "metadata": {
    "colab": {
     "base_uri": "https://localhost:8080/"
    },
    "id": "rLZa5aijCQzY",
    "outputId": "f4346aed-dafc-4c68-f8c9-c1c2348ffd4e"
   },
   "outputs": [
    {
     "name": "stdout",
     "output_type": "stream",
     "text": [
      "Hello There!\n"
     ]
    }
   ],
   "source": [
    "print(\"Hello There!\")"
   ]
  }
 ],
 "metadata": {
  "colab": {
   "authorship_tag": "ABX9TyOQ9AzkvbHUR18YH2uhNXJW",
   "name": "Copy of A4D2E; 03; Colab Examples.ipynb",
   "provenance": []
  },
  "kernelspec": {
   "display_name": "Python 3",
   "language": "python",
   "name": "python3"
  },
  "language_info": {
   "codemirror_mode": {
    "name": "ipython",
    "version": 3
   },
   "file_extension": ".py",
   "mimetype": "text/x-python",
   "name": "python",
   "nbconvert_exporter": "python",
   "pygments_lexer": "ipython3",
   "version": "3.8.3"
  }
 },
 "nbformat": 4,
 "nbformat_minor": 1
}

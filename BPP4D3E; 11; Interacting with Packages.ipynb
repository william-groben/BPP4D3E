{
 "cells": [
  {
   "cell_type": "markdown",
   "metadata": {},
   "source": [
    "# Importing Packages"
   ]
  },
  {
   "cell_type": "markdown",
   "metadata": {},
   "source": [
    "# **_Sidebar:_** INTERACTING WITH THE CURRENT PYTHON DIRECTORY"
   ]
  },
  {
   "cell_type": "code",
   "execution_count": 1,
   "metadata": {},
   "outputs": [
    {
     "name": "stdout",
     "output_type": "stream",
     "text": [
      "C:\\Users\\John\\Anaconda Projects\\BPP4D3E\n"
     ]
    }
   ],
   "source": [
    "import os\n",
    "print(os.getcwd())"
   ]
  },
  {
   "cell_type": "code",
   "execution_count": 2,
   "metadata": {},
   "outputs": [
    {
     "name": "stdout",
     "output_type": "stream",
     "text": [
      ".ipynb_checkpoints\n",
      "BPP4D3E; 02; Colab Examples.ipynb\n",
      "BPP4D3E; 03; Working with Commands.ipynb\n",
      "BPP4D3E; 04; Comments.ipynb\n",
      "BPP4D3E; 04; Indentation.ipynb\n",
      "BPP4D3E; 04; Sample.ipynb\n",
      "BPP4D3E; 05; Magics.ipynb\n",
      "BPP4D3E; 06; Storing And Modifying Information.ipynb\n",
      "BPP4D3E; 07; Managing Information.ipynb\n",
      "BPP4D3E; 08; Making Decisions.ipynb\n",
      "BPP4D3E; 09; Performing Repetitive Tasks.ipynb\n",
      "BPP4D3E; 10; Dealing with Errors.ipynb\n",
      "BPP4D3E; 11; Interacting with Packages.ipynb\n",
      "BPP4D3E; 11; Packages.ipynb\n",
      "BPP4D3E_11_Packages.py\n",
      "__pycache__\n"
     ]
    }
   ],
   "source": [
    "for entry in os.listdir(): print(entry)"
   ]
  },
  {
   "cell_type": "markdown",
   "metadata": {},
   "source": [
    "## Using the import statement"
   ]
  },
  {
   "cell_type": "code",
   "execution_count": 3,
   "metadata": {},
   "outputs": [
    {
     "data": {
      "text/plain": [
       "['SayGoodbye',\n",
       " 'SayHello',\n",
       " '__builtins__',\n",
       " '__cached__',\n",
       " '__doc__',\n",
       " '__file__',\n",
       " '__loader__',\n",
       " '__name__',\n",
       " '__package__',\n",
       " '__spec__']"
      ]
     },
     "execution_count": 3,
     "metadata": {},
     "output_type": "execute_result"
    }
   ],
   "source": [
    "import BPP4D3E_11_Packages\n",
    "dir(BPP4D3E_11_Packages)"
   ]
  },
  {
   "cell_type": "code",
   "execution_count": 4,
   "metadata": {},
   "outputs": [
    {
     "name": "stdout",
     "output_type": "stream",
     "text": [
      "Hello  Josh\n",
      "Goodbye  Sally\n"
     ]
    }
   ],
   "source": [
    "BPP4D3E_11_Packages.SayHello(\"Josh\")\n",
    "BPP4D3E_11_Packages.SayGoodbye(\"Sally\")"
   ]
  },
  {
   "cell_type": "markdown",
   "metadata": {},
   "source": [
    "## Using the from...import statement"
   ]
  },
  {
   "cell_type": "code",
   "execution_count": 5,
   "metadata": {},
   "outputs": [
    {
     "ename": "NameError",
     "evalue": "name 'BPP4D3E_11_Packages' is not defined",
     "output_type": "error",
     "traceback": [
      "\u001b[1;31m---------------------------------------------------------------------------\u001b[0m",
      "\u001b[1;31mNameError\u001b[0m                                 Traceback (most recent call last)",
      "\u001b[1;32m<ipython-input-5-07e9ca6ae946>\u001b[0m in \u001b[0;36m<module>\u001b[1;34m\u001b[0m\n\u001b[0;32m      2\u001b[0m \u001b[1;32mdel\u001b[0m \u001b[0msys\u001b[0m\u001b[1;33m.\u001b[0m\u001b[0mmodules\u001b[0m\u001b[1;33m[\u001b[0m\u001b[1;34m\"BPP4D3E_11_Packages\"\u001b[0m\u001b[1;33m]\u001b[0m\u001b[1;33m\u001b[0m\u001b[1;33m\u001b[0m\u001b[0m\n\u001b[0;32m      3\u001b[0m \u001b[1;32mdel\u001b[0m \u001b[0mBPP4D3E_11_Packages\u001b[0m\u001b[1;33m\u001b[0m\u001b[1;33m\u001b[0m\u001b[0m\n\u001b[1;32m----> 4\u001b[1;33m \u001b[0mdir\u001b[0m\u001b[1;33m(\u001b[0m\u001b[0mBPP4D3E_11_Packages\u001b[0m\u001b[1;33m)\u001b[0m\u001b[1;33m\u001b[0m\u001b[1;33m\u001b[0m\u001b[0m\n\u001b[0m",
      "\u001b[1;31mNameError\u001b[0m: name 'BPP4D3E_11_Packages' is not defined"
     ]
    }
   ],
   "source": [
    "import sys\n",
    "del sys.modules[\"BPP4D3E_11_Packages\"]\n",
    "del BPP4D3E_11_Packages\n",
    "dir(BPP4D3E_11_Packages)"
   ]
  },
  {
   "cell_type": "code",
   "execution_count": 6,
   "metadata": {},
   "outputs": [
    {
     "ename": "NameError",
     "evalue": "name 'BPP4D3E_11_Packages' is not defined",
     "output_type": "error",
     "traceback": [
      "\u001b[1;31m---------------------------------------------------------------------------\u001b[0m",
      "\u001b[1;31mNameError\u001b[0m                                 Traceback (most recent call last)",
      "\u001b[1;32m<ipython-input-6-7d571584cea7>\u001b[0m in \u001b[0;36m<module>\u001b[1;34m\u001b[0m\n\u001b[0;32m      1\u001b[0m \u001b[1;32mfrom\u001b[0m \u001b[0mBPP4D3E_11_Packages\u001b[0m \u001b[1;32mimport\u001b[0m \u001b[0mSayHello\u001b[0m\u001b[1;33m\u001b[0m\u001b[1;33m\u001b[0m\u001b[0m\n\u001b[1;32m----> 2\u001b[1;33m \u001b[0mdir\u001b[0m\u001b[1;33m(\u001b[0m\u001b[0mBPP4D3E_11_Packages\u001b[0m\u001b[1;33m)\u001b[0m\u001b[1;33m\u001b[0m\u001b[1;33m\u001b[0m\u001b[0m\n\u001b[0m",
      "\u001b[1;31mNameError\u001b[0m: name 'BPP4D3E_11_Packages' is not defined"
     ]
    }
   ],
   "source": [
    "from BPP4D3E_11_Packages import SayHello\n",
    "dir(BPP4D3E_11_Packages)"
   ]
  },
  {
   "cell_type": "code",
   "execution_count": 7,
   "metadata": {},
   "outputs": [
    {
     "data": {
      "text/plain": [
       "['__annotations__',\n",
       " '__call__',\n",
       " '__class__',\n",
       " '__closure__',\n",
       " '__code__',\n",
       " '__defaults__',\n",
       " '__delattr__',\n",
       " '__dict__',\n",
       " '__dir__',\n",
       " '__doc__',\n",
       " '__eq__',\n",
       " '__format__',\n",
       " '__ge__',\n",
       " '__get__',\n",
       " '__getattribute__',\n",
       " '__globals__',\n",
       " '__gt__',\n",
       " '__hash__',\n",
       " '__init__',\n",
       " '__init_subclass__',\n",
       " '__kwdefaults__',\n",
       " '__le__',\n",
       " '__lt__',\n",
       " '__module__',\n",
       " '__name__',\n",
       " '__ne__',\n",
       " '__new__',\n",
       " '__qualname__',\n",
       " '__reduce__',\n",
       " '__reduce_ex__',\n",
       " '__repr__',\n",
       " '__setattr__',\n",
       " '__sizeof__',\n",
       " '__str__',\n",
       " '__subclasshook__']"
      ]
     },
     "execution_count": 7,
     "metadata": {},
     "output_type": "execute_result"
    }
   ],
   "source": [
    "dir(SayHello)"
   ]
  },
  {
   "cell_type": "code",
   "execution_count": 8,
   "metadata": {},
   "outputs": [
    {
     "name": "stdout",
     "output_type": "stream",
     "text": [
      "Hello  Angie\n"
     ]
    }
   ],
   "source": [
    "SayHello(\"Angie\")"
   ]
  },
  {
   "cell_type": "code",
   "execution_count": 9,
   "metadata": {},
   "outputs": [
    {
     "ename": "NameError",
     "evalue": "name 'SayGoodbye' is not defined",
     "output_type": "error",
     "traceback": [
      "\u001b[1;31m---------------------------------------------------------------------------\u001b[0m",
      "\u001b[1;31mNameError\u001b[0m                                 Traceback (most recent call last)",
      "\u001b[1;32m<ipython-input-9-c7d16f5c4c78>\u001b[0m in \u001b[0;36m<module>\u001b[1;34m\u001b[0m\n\u001b[1;32m----> 1\u001b[1;33m \u001b[0mSayGoodbye\u001b[0m\u001b[1;33m(\u001b[0m\u001b[1;34m\"Harold\"\u001b[0m\u001b[1;33m)\u001b[0m\u001b[1;33m\u001b[0m\u001b[1;33m\u001b[0m\u001b[0m\n\u001b[0m",
      "\u001b[1;31mNameError\u001b[0m: name 'SayGoodbye' is not defined"
     ]
    }
   ],
   "source": [
    "SayGoodbye(\"Harold\")"
   ]
  },
  {
   "cell_type": "markdown",
   "metadata": {},
   "source": [
    "## Using the import...as statement"
   ]
  },
  {
   "cell_type": "code",
   "execution_count": 10,
   "metadata": {},
   "outputs": [
    {
     "data": {
      "text/plain": [
       "['SayGoodbye',\n",
       " 'SayHello',\n",
       " '__builtins__',\n",
       " '__cached__',\n",
       " '__doc__',\n",
       " '__file__',\n",
       " '__loader__',\n",
       " '__name__',\n",
       " '__package__',\n",
       " '__spec__']"
      ]
     },
     "execution_count": 10,
     "metadata": {},
     "output_type": "execute_result"
    }
   ],
   "source": [
    "import BPP4D3E_11_Packages as BPP\n",
    "dir(BPP)"
   ]
  },
  {
   "cell_type": "code",
   "execution_count": 11,
   "metadata": {},
   "outputs": [
    {
     "name": "stdout",
     "output_type": "stream",
     "text": [
      "Hello  Albert\n",
      "Goodbye  Daphne\n"
     ]
    }
   ],
   "source": [
    "BPP.SayHello(\"Albert\")\n",
    "BPP.SayGoodbye(\"Daphne\")"
   ]
  },
  {
   "cell_type": "markdown",
   "metadata": {},
   "source": [
    "# Finding Packages"
   ]
  },
  {
   "cell_type": "markdown",
   "metadata": {},
   "source": [
    "## Locating packages on disk"
   ]
  },
  {
   "cell_type": "code",
   "execution_count": 12,
   "metadata": {},
   "outputs": [
    {
     "name": "stdout",
     "output_type": "stream",
     "text": [
      "C:\\Users\\John\\Anaconda Projects\\BPP4D3E\n",
      "C:\\Users\\John\\anaconda3\n",
      "C:\\Users\\John\\anaconda3\\python38.zip\n",
      "C:\\Users\\John\\anaconda3\\DLLs\n",
      "C:\\Users\\John\\anaconda3\\lib\n",
      "\n",
      "C:\\Users\\John\\anaconda3\\lib\\site-packages\n",
      "C:\\Users\\John\\anaconda3\\lib\\site-packages\\win32\n",
      "C:\\Users\\John\\anaconda3\\lib\\site-packages\\win32\\lib\n",
      "C:\\Users\\John\\anaconda3\\lib\\site-packages\\Pythonwin\n",
      "C:\\Users\\John\\anaconda3\\lib\\site-packages\\IPython\\extensions\n",
      "C:\\Users\\John\\.ipython\n"
     ]
    }
   ],
   "source": [
    "import sys\n",
    "for p in sys.path: print(p)"
   ]
  },
  {
   "cell_type": "code",
   "execution_count": 13,
   "metadata": {},
   "outputs": [
    {
     "data": {
      "text/plain": [
       "['C:\\\\Users\\\\John\\\\anaconda3']"
      ]
     },
     "execution_count": 13,
     "metadata": {},
     "output_type": "execute_result"
    }
   ],
   "source": [
    "import os\n",
    "os.environ['PYTHONPATH'].split(os.pathsep)"
   ]
  },
  {
   "cell_type": "code",
   "execution_count": 14,
   "metadata": {},
   "outputs": [
    {
     "name": "stdout",
     "output_type": "stream",
     "text": [
      "C:\\Users\\John\\Anaconda Projects\\BPP4D3E\n",
      "C:\\Users\\John\\anaconda3\n",
      "C:\\Users\\John\\anaconda3\\python38.zip\n",
      "C:\\Users\\John\\anaconda3\\DLLs\n",
      "C:\\Users\\John\\anaconda3\\lib\n",
      "\n",
      "C:\\Users\\John\\anaconda3\\lib\\site-packages\n",
      "C:\\Users\\John\\anaconda3\\lib\\site-packages\\win32\n",
      "C:\\Users\\John\\anaconda3\\lib\\site-packages\\win32\\lib\n",
      "C:\\Users\\John\\anaconda3\\lib\\site-packages\\Pythonwin\n",
      "C:\\Users\\John\\anaconda3\\lib\\site-packages\\IPython\\extensions\n",
      "C:\\Users\\John\\.ipython\n",
      "C:\\Users\\John\\Anaconda Projects\\BPP4D3E\n"
     ]
    }
   ],
   "source": [
    "sys.path.append(os.getcwd())\n",
    "for p in sys.path: print(p)"
   ]
  },
  {
   "cell_type": "code",
   "execution_count": 15,
   "metadata": {},
   "outputs": [
    {
     "name": "stdout",
     "output_type": "stream",
     "text": [
      "C:\\Users\\John\\anaconda3\n",
      "C:\\Users\\John\\anaconda3\\python38.zip\n",
      "C:\\Users\\John\\anaconda3\\DLLs\n",
      "C:\\Users\\John\\anaconda3\\lib\n",
      "\n",
      "C:\\Users\\John\\anaconda3\\lib\\site-packages\n",
      "C:\\Users\\John\\anaconda3\\lib\\site-packages\\win32\n",
      "C:\\Users\\John\\anaconda3\\lib\\site-packages\\win32\\lib\n",
      "C:\\Users\\John\\anaconda3\\lib\\site-packages\\Pythonwin\n",
      "C:\\Users\\John\\anaconda3\\lib\\site-packages\\IPython\\extensions\n",
      "C:\\Users\\John\\.ipython\n",
      "C:\\Users\\John\\Anaconda Projects\\BPP4D3E\n"
     ]
    }
   ],
   "source": [
    "sys.path.remove(os.getcwd())\n",
    "for p in sys.path: print(p)"
   ]
  },
  {
   "cell_type": "markdown",
   "metadata": {},
   "source": [
    "## Locating packages online"
   ]
  },
  {
   "cell_type": "code",
   "execution_count": 16,
   "metadata": {},
   "outputs": [
    {
     "name": "stdout",
     "output_type": "stream",
     "text": [
      "C:\\Users\\John\\anaconda3   ## Windows\n",
      "$PTYHONPATH    ## Linux and macOS\n"
     ]
    }
   ],
   "source": [
    "!echo %PYTHONPATH%   ## Windows\n",
    "!echo $PTYHONPATH    ## Linux and macOS"
   ]
  },
  {
   "cell_type": "markdown",
   "metadata": {},
   "source": [
    "# Downloading Packages from Other Sources"
   ]
  },
  {
   "cell_type": "markdown",
   "metadata": {},
   "source": [
    "## Installing packages by using pip"
   ]
  },
  {
   "cell_type": "code",
   "execution_count": 17,
   "metadata": {},
   "outputs": [
    {
     "name": "stdout",
     "output_type": "stream",
     "text": [
      "Package                       Version             Latest      Type\n",
      "----------------------------- ------------------- ----------- -----\n",
      "asn1crypto                    1.3.0               1.5.1       wheel\n",
      "astroid                       2.4.2               2.11.4      wheel\n",
      "astropy                       4.0.1.post1         5.0.4       wheel\n",
      "attrs                         19.3.0              21.4.0      wheel\n",
      "autopep8                      1.5.3               1.6.0       wheel\n",
      "Babel                         2.8.0               2.10.1      wheel\n",
      "backports.functools-lru-cache 1.6.1               1.6.4       wheel\n",
      "bcrypt                        3.1.7               3.2.2       wheel\n",
      "beautifulsoup4                4.9.1               4.11.1      wheel\n",
      "bitarray                      1.4.0               2.5.0       wheel\n",
      "bleach                        3.1.5               5.0.0       wheel\n",
      "bokeh                         2.1.1               2.4.2       wheel\n",
      "Bottleneck                    1.3.2               1.3.4       wheel\n",
      "certifi                       2020.6.20           2021.10.8   wheel\n",
      "cffi                          1.14.0              1.15.0      wheel\n",
      "chardet                       3.0.4               4.0.0       wheel\n",
      "click                         7.1.2               8.1.3       wheel\n",
      "cloudpickle                   1.5.0               2.0.0       wheel\n",
      "colorama                      0.4.3               0.4.4       wheel\n",
      "comtypes                      1.1.7               1.1.11      wheel\n",
      "contextlib2                   0.6.0.post1         21.6.0      wheel\n",
      "cryptography                  2.9.2               37.0.2      wheel\n",
      "cycler                        0.10.0              0.11.0      wheel\n",
      "Cython                        0.29.21             0.29.28     wheel\n",
      "cytoolz                       0.10.1              0.11.2      sdist\n",
      "dask                          2.20.0              2022.5.0    wheel\n",
      "decorator                     4.4.2               5.1.1       wheel\n",
      "defusedxml                    0.6.0               0.7.1       wheel\n",
      "distributed                   2.20.0              2022.5.0    wheel\n",
      "docutils                      0.16                0.18.1      wheel\n",
      "entrypoints                   0.3                 0.4         wheel\n",
      "et-xmlfile                    1.0.1               1.1.0       wheel\n",
      "filelock                      3.0.12              3.6.0       wheel\n",
      "flake8                        3.8.3               4.0.1       wheel\n",
      "Flask                         1.1.2               2.1.2       wheel\n",
      "fsspec                        0.7.4               2022.3.0    wheel\n",
      "gevent                        20.6.2              21.12.0     wheel\n",
      "gmpy2                         2.0.8               2.1.2       wheel\n",
      "greenlet                      0.4.16              1.1.2       wheel\n",
      "h5py                          2.10.0              3.6.0       wheel\n",
      "idna                          2.10                3.3         wheel\n",
      "imageio                       2.9.0               2.19.0      wheel\n",
      "imagesize                     1.2.0               1.3.0       wheel\n",
      "importlib-metadata            1.7.0               4.11.3      wheel\n",
      "intervaltree                  3.0.2               3.1.0       sdist\n",
      "ipykernel                     5.3.2               6.13.0      wheel\n",
      "ipytest                       0.11.0              0.12.0      wheel\n",
      "ipython                       7.16.1              8.3.0       wheel\n",
      "ipywidgets                    7.5.1               7.7.0       wheel\n",
      "isort                         4.3.21              5.10.1      wheel\n",
      "itsdangerous                  1.1.0               2.1.2       wheel\n",
      "jedi                          0.17.1              0.18.1      wheel\n",
      "Jinja2                        2.11.2              3.1.2       wheel\n",
      "joblib                        0.16.0              1.1.0       wheel\n",
      "json5                         0.9.5               0.9.6       wheel\n",
      "jsonschema                    3.2.0               4.5.0       wheel\n",
      "jupyter-client                6.1.6               7.3.0       wheel\n",
      "jupyter-console               6.1.0               6.4.3       wheel\n",
      "jupyter-core                  4.6.3               4.10.0      wheel\n",
      "jupyterlab                    2.1.5               3.4.0       wheel\n",
      "jupyterlab-server             1.2.0               2.13.0      wheel\n",
      "keyring                       21.2.1              23.5.0      wheel\n",
      "kiwisolver                    1.2.0               1.4.2       wheel\n",
      "lazy-object-proxy             1.4.3               1.7.1       wheel\n",
      "libarchive-c                  2.9                 4.0         wheel\n",
      "llvmlite                      0.33.0+1.g022ab0f   0.38.0      wheel\n",
      "locket                        0.2.0               1.0.0       wheel\n",
      "lxml                          4.5.2               4.8.0       wheel\n",
      "MarkupSafe                    1.1.1               2.1.1       wheel\n",
      "matplotlib                    3.2.2               3.5.2       wheel\n",
      "mccabe                        0.6.1               0.7.0       wheel\n",
      "mistune                       0.8.4               2.0.2       wheel\n",
      "mkl-fft                       1.1.0               1.3.1       wheel\n",
      "mkl-random                    1.1.1               1.2.2       wheel\n",
      "mkl-service                   2.3.0               2.4.0       wheel\n",
      "mock                          4.0.2               4.0.3       wheel\n",
      "more-itertools                8.4.0               8.12.0      wheel\n",
      "mpmath                        1.1.0               1.2.1       wheel\n",
      "msgpack                       1.0.0               1.0.3       wheel\n",
      "nbconvert                     5.6.1               6.5.0       wheel\n",
      "nbformat                      5.0.7               5.4.0       wheel\n",
      "networkx                      2.4                 2.8         wheel\n",
      "nltk                          3.5                 3.7         wheel\n",
      "notebook                      6.0.3               6.4.11      wheel\n",
      "numba                         0.50.1              0.55.1      wheel\n",
      "numexpr                       2.7.1               2.8.1       wheel\n",
      "numpy                         1.18.5              1.22.3      wheel\n",
      "numpydoc                      1.1.0               1.3.1       wheel\n",
      "openpyxl                      3.0.4               3.0.9       wheel\n",
      "packaging                     20.4                21.3        wheel\n",
      "pandas                        1.0.5               1.4.2       wheel\n",
      "pandocfilters                 1.4.2               1.5.0       wheel\n",
      "paramiko                      2.7.1               2.10.4      wheel\n",
      "parso                         0.7.0               0.8.3       wheel\n",
      "partd                         1.1.0               1.2.0       wheel\n",
      "path                          13.1.0              16.4.0      wheel\n",
      "pathlib2                      2.3.5               2.3.7.post1 wheel\n",
      "patsy                         0.5.1               0.5.2       wheel\n",
      "Pillow                        7.2.0               9.1.0       wheel\n",
      "pip                           20.1.1              22.0.4      wheel\n",
      "pkginfo                       1.5.0.1             1.8.2       wheel\n",
      "pluggy                        0.13.1              1.0.0       wheel\n",
      "prometheus-client             0.8.0               0.14.1      wheel\n",
      "prompt-toolkit                3.0.5               3.0.29      wheel\n",
      "psutil                        5.7.0               5.9.0       wheel\n",
      "py                            1.9.0               1.11.0      wheel\n",
      "pycodestyle                   2.6.0               2.8.0       wheel\n",
      "pycparser                     2.20                2.21        wheel\n",
      "pycurl                        7.43.0.5            7.45.1      sdist\n",
      "pydocstyle                    5.0.2               6.1.1       wheel\n",
      "pyflakes                      2.2.0               2.4.0       wheel\n",
      "Pygments                      2.6.1               2.12.0      wheel\n",
      "pylint                        2.5.3               2.13.8      wheel\n",
      "PyNaCl                        1.4.0               1.5.0       wheel\n",
      "pyodbc                        4.0.0-unsupported   4.0.32      wheel\n",
      "pyOpenSSL                     19.1.0              22.0.0      wheel\n",
      "pyparsing                     2.4.7               3.0.8       wheel\n",
      "pyrsistent                    0.16.0              0.18.1      wheel\n",
      "pytest                        5.4.3               7.1.2       wheel\n",
      "python-dateutil               2.8.1               2.8.2       wheel\n",
      "python-jsonrpc-server         0.3.4               0.4.0       wheel\n",
      "python-language-server        0.34.1              0.36.2      wheel\n",
      "pytz                          2020.1              2022.1      wheel\n",
      "PyWavelets                    1.1.1               1.3.0       wheel\n",
      "pywin32                       227                 304         wheel\n",
      "pywinpty                      0.5.7               2.0.5       wheel\n",
      "PyYAML                        5.3.1               6.0         wheel\n",
      "pyzmq                         19.0.1              22.3.0      wheel\n",
      "QDarkStyle                    2.8.1               3.0.3       wheel\n",
      "QtAwesome                     0.7.2               1.1.1       wheel\n",
      "qtconsole                     4.7.5               5.3.0       wheel\n",
      "QtPy                          1.9.0               2.1.0       wheel\n",
      "regex                         2020.6.8            2022.4.24   wheel\n",
      "requests                      2.24.0              2.27.1      wheel\n",
      "rope                          0.17.0              1.0.0       wheel\n",
      "Rtree                         0.9.4               1.0.0       wheel\n",
      "ruamel-yaml                   0.15.87             0.17.21     wheel\n",
      "scikit-image                  0.16.2              0.19.2      wheel\n",
      "scikit-learn                  0.23.1              1.0.2       wheel\n",
      "scipy                         1.5.0               1.8.0       wheel\n",
      "seaborn                       0.10.1              0.11.2      wheel\n",
      "Send2Trash                    1.5.0               1.8.0       wheel\n",
      "setuptools                    49.2.0.post20200714 62.1.0      wheel\n",
      "singledispatch                3.4.0.3             3.7.0       wheel\n",
      "sip                           4.19.13             6.6.1       wheel\n",
      "six                           1.15.0              1.16.0      wheel\n",
      "snowballstemmer               2.0.0               2.2.0       wheel\n",
      "sortedcollections             1.2.1               2.1.0       wheel\n",
      "sortedcontainers              2.2.2               2.4.0       wheel\n",
      "soupsieve                     2.0.1               2.3.2.post1 wheel\n",
      "Sphinx                        3.1.2               4.5.0       wheel\n",
      "sphinxcontrib-htmlhelp        1.0.3               2.0.0       wheel\n",
      "sphinxcontrib-serializinghtml 1.1.4               1.1.5       wheel\n",
      "sphinxcontrib-websupport      1.2.3               1.2.4       wheel\n",
      "spyder                        4.1.4               5.3.0       wheel\n",
      "spyder-kernels                1.9.2               2.3.0       wheel\n",
      "SQLAlchemy                    1.3.18              1.4.36      wheel\n",
      "statsmodels                   0.11.1              0.13.2      wheel\n",
      "sympy                         1.6.1               1.10.1      wheel\n",
      "tables                        3.6.1               3.7.0       wheel\n",
      "tblib                         1.6.0               1.7.0       wheel\n",
      "terminado                     0.8.3               0.13.3      wheel\n",
      "testpath                      0.4.4               0.6.0       wheel\n",
      "threadpoolctl                 2.1.0               3.1.0       wheel\n",
      "toml                          0.10.1              0.10.2      wheel\n",
      "toolz                         0.10.0              0.11.2      wheel\n",
      "tornado                       6.0.4               6.1         wheel\n",
      "tqdm                          4.47.0              4.64.0      wheel\n",
      "traitlets                     4.3.3               5.1.1       wheel\n",
      "typing-extensions             3.7.4.2             4.2.0       wheel\n",
      "ujson                         1.35                5.2.0       wheel\n",
      "urllib3                       1.25.9              1.26.9      wheel\n",
      "watchdog                      0.10.3              2.1.7       wheel\n",
      "Werkzeug                      1.0.1               2.1.2       wheel\n",
      "wheel                         0.34.2              0.37.1      wheel\n",
      "widgetsnbextension            3.5.1               3.6.0       wheel\n",
      "wrapt                         1.11.2              1.14.1      wheel\n",
      "xlrd                          1.2.0               2.0.1       wheel\n",
      "XlsxWriter                    1.2.9               3.0.3       wheel\n",
      "xlwings                       0.19.5              0.27.7      wheel\n",
      "yapf                          0.30.0              0.32.0      wheel\n",
      "zict                          2.0.0               2.2.0       wheel\n",
      "zipp                          3.1.0               3.8.0       wheel\n",
      "zope.event                    4.4                 4.5.0       wheel\n",
      "zope.interface                4.7.1               5.4.0       wheel\n"
     ]
    }
   ],
   "source": [
    "!pip list --outdated"
   ]
  },
  {
   "cell_type": "markdown",
   "metadata": {},
   "source": [
    "## Installing packages using the %pip magics"
   ]
  },
  {
   "cell_type": "code",
   "execution_count": 18,
   "metadata": {},
   "outputs": [
    {
     "name": "stdout",
     "output_type": "stream",
     "text": [
      "Package                       Version             Latest      Type\n",
      "----------------------------- ------------------- ----------- -----\n",
      "asn1crypto                    1.3.0               1.5.1       wheel\n",
      "astroid                       2.4.2               2.11.4      wheel\n",
      "astropy                       4.0.1.post1         5.0.4       wheel\n",
      "attrs                         19.3.0              21.4.0      wheel\n",
      "autopep8                      1.5.3               1.6.0       wheel\n",
      "Babel                         2.8.0               2.10.1      wheel\n",
      "backports.functools-lru-cache 1.6.1               1.6.4       wheel\n",
      "bcrypt                        3.1.7               3.2.2       wheel\n",
      "beautifulsoup4                4.9.1               4.11.1      wheel\n",
      "bitarray                      1.4.0               2.5.0       wheel\n",
      "bleach                        3.1.5               5.0.0       wheel\n",
      "bokeh                         2.1.1               2.4.2       wheel\n",
      "Bottleneck                    1.3.2               1.3.4       wheel\n",
      "certifi                       2020.6.20           2021.10.8   wheel\n",
      "cffi                          1.14.0              1.15.0      wheel\n",
      "chardet                       3.0.4               4.0.0       wheel\n",
      "click                         7.1.2               8.1.3       wheel\n",
      "cloudpickle                   1.5.0               2.0.0       wheel\n",
      "colorama                      0.4.3               0.4.4       wheel\n",
      "comtypes                      1.1.7               1.1.11      wheel\n",
      "contextlib2                   0.6.0.post1         21.6.0      wheel\n",
      "cryptography                  2.9.2               37.0.2      wheel\n",
      "cycler                        0.10.0              0.11.0      wheel\n",
      "Cython                        0.29.21             0.29.28     wheel\n",
      "cytoolz                       0.10.1              0.11.2      sdist\n",
      "dask                          2.20.0              2022.5.0    wheel\n",
      "decorator                     4.4.2               5.1.1       wheel\n",
      "defusedxml                    0.6.0               0.7.1       wheel\n",
      "distributed                   2.20.0              2022.5.0    wheel\n",
      "docutils                      0.16                0.18.1      wheel\n",
      "entrypoints                   0.3                 0.4         wheel\n",
      "et-xmlfile                    1.0.1               1.1.0       wheel\n",
      "filelock                      3.0.12              3.6.0       wheel\n",
      "flake8                        3.8.3               4.0.1       wheel\n",
      "Flask                         1.1.2               2.1.2       wheel\n",
      "fsspec                        0.7.4               2022.3.0    wheel\n",
      "gevent                        20.6.2              21.12.0     wheel\n",
      "gmpy2                         2.0.8               2.1.2       wheel\n",
      "greenlet                      0.4.16              1.1.2       wheel\n",
      "h5py                          2.10.0              3.6.0       wheel\n",
      "idna                          2.10                3.3         wheel\n",
      "imageio                       2.9.0               2.19.0      wheel\n",
      "imagesize                     1.2.0               1.3.0       wheel\n",
      "importlib-metadata            1.7.0               4.11.3      wheel\n",
      "intervaltree                  3.0.2               3.1.0       sdist\n",
      "ipykernel                     5.3.2               6.13.0      wheel\n",
      "ipytest                       0.11.0              0.12.0      wheel\n",
      "ipython                       7.16.1              8.3.0       wheel\n",
      "ipywidgets                    7.5.1               7.7.0       wheel\n",
      "isort                         4.3.21              5.10.1      wheel\n",
      "itsdangerous                  1.1.0               2.1.2       wheel\n",
      "jedi                          0.17.1              0.18.1      wheel\n",
      "Jinja2                        2.11.2              3.1.2       wheel\n",
      "joblib                        0.16.0              1.1.0       wheel\n",
      "json5                         0.9.5               0.9.6       wheel\n",
      "jsonschema                    3.2.0               4.5.1       wheel\n",
      "jupyter-client                6.1.6               7.3.0       wheel\n",
      "jupyter-console               6.1.0               6.4.3       wheel\n",
      "jupyter-core                  4.6.3               4.10.0      wheel\n",
      "jupyterlab                    2.1.5               3.4.0       wheel\n",
      "jupyterlab-server             1.2.0               2.13.0      wheel\n",
      "keyring                       21.2.1              23.5.0      wheel\n",
      "kiwisolver                    1.2.0               1.4.2       wheel\n",
      "lazy-object-proxy             1.4.3               1.7.1       wheel\n",
      "libarchive-c                  2.9                 4.0         wheel\n",
      "llvmlite                      0.33.0+1.g022ab0f   0.38.0      wheel\n",
      "locket                        0.2.0               1.0.0       wheel\n",
      "lxml                          4.5.2               4.8.0       wheel\n",
      "MarkupSafe                    1.1.1               2.1.1       wheel\n",
      "matplotlib                    3.2.2               3.5.2       wheel\n",
      "mccabe                        0.6.1               0.7.0       wheel\n",
      "mistune                       0.8.4               2.0.2       wheel\n",
      "mkl-fft                       1.1.0               1.3.1       wheel\n",
      "mkl-random                    1.1.1               1.2.2       wheel\n",
      "mkl-service                   2.3.0               2.4.0       wheel\n",
      "mock                          4.0.2               4.0.3       wheel\n",
      "more-itertools                8.4.0               8.12.0      wheel\n",
      "mpmath                        1.1.0               1.2.1       wheel\n",
      "msgpack                       1.0.0               1.0.3       wheel\n",
      "nbconvert                     5.6.1               6.5.0       wheel\n",
      "nbformat                      5.0.7               5.4.0       wheel\n",
      "networkx                      2.4                 2.8         wheel\n",
      "nltk                          3.5                 3.7         wheel\n",
      "notebook                      6.0.3               6.4.11      wheel\n",
      "numba                         0.50.1              0.55.1      wheel\n",
      "numexpr                       2.7.1               2.8.1       wheel\n",
      "numpy                         1.18.5              1.22.3      wheel\n",
      "numpydoc                      1.1.0               1.3.1       wheel\n",
      "openpyxl                      3.0.4               3.0.9       wheel\n",
      "packaging                     20.4                21.3        wheel\n",
      "pandas                        1.0.5               1.4.2       wheel\n",
      "pandocfilters                 1.4.2               1.5.0       wheel\n",
      "paramiko                      2.7.1               2.10.4      wheel\n",
      "parso                         0.7.0               0.8.3       wheel\n",
      "partd                         1.1.0               1.2.0       wheel\n",
      "path                          13.1.0              16.4.0      wheel\n",
      "pathlib2                      2.3.5               2.3.7.post1 wheel\n",
      "patsy                         0.5.1               0.5.2       wheel\n",
      "Pillow                        7.2.0               9.1.0       wheel\n",
      "pip                           20.1.1              22.0.4      wheel\n",
      "pkginfo                       1.5.0.1             1.8.2       wheel\n",
      "pluggy                        0.13.1              1.0.0       wheel\n",
      "prometheus-client             0.8.0               0.14.1      wheel\n",
      "prompt-toolkit                3.0.5               3.0.29      wheel\n",
      "psutil                        5.7.0               5.9.0       wheel\n",
      "py                            1.9.0               1.11.0      wheel\n",
      "pycodestyle                   2.6.0               2.8.0       wheel\n",
      "pycparser                     2.20                2.21        wheel\n",
      "pycurl                        7.43.0.5            7.45.1      sdist\n",
      "pydocstyle                    5.0.2               6.1.1       wheel\n",
      "pyflakes                      2.2.0               2.4.0       wheel\n",
      "Pygments                      2.6.1               2.12.0      wheel\n",
      "pylint                        2.5.3               2.13.8      wheel\n",
      "PyNaCl                        1.4.0               1.5.0       wheel\n",
      "pyodbc                        4.0.0-unsupported   4.0.32      wheel\n",
      "pyOpenSSL                     19.1.0              22.0.0      wheel\n",
      "pyparsing                     2.4.7               3.0.8       wheel\n",
      "pyrsistent                    0.16.0              0.18.1      wheel\n",
      "pytest                        5.4.3               7.1.2       wheel\n",
      "python-dateutil               2.8.1               2.8.2       wheel\n",
      "python-jsonrpc-server         0.3.4               0.4.0       wheel\n",
      "python-language-server        0.34.1              0.36.2      wheel\n",
      "pytz                          2020.1              2022.1      wheel\n",
      "PyWavelets                    1.1.1               1.3.0       wheel\n",
      "pywin32                       227                 304         wheel\n",
      "pywinpty                      0.5.7               2.0.5       wheel\n",
      "PyYAML                        5.3.1               6.0         wheel\n",
      "pyzmq                         19.0.1              22.3.0      wheel\n",
      "QDarkStyle                    2.8.1               3.0.3       wheel\n",
      "QtAwesome                     0.7.2               1.1.1       wheel\n",
      "qtconsole                     4.7.5               5.3.0       wheel\n",
      "QtPy                          1.9.0               2.1.0       wheel\n",
      "regex                         2020.6.8            2022.4.24   wheel\n",
      "requests                      2.24.0              2.27.1      wheel\n",
      "rope                          0.17.0              1.0.0       wheel\n",
      "Rtree                         0.9.4               1.0.0       wheel\n",
      "ruamel-yaml                   0.15.87             0.17.21     wheel\n",
      "scikit-image                  0.16.2              0.19.2      wheel\n",
      "scikit-learn                  0.23.1              1.0.2       wheel\n",
      "scipy                         1.5.0               1.8.0       wheel\n",
      "seaborn                       0.10.1              0.11.2      wheel\n",
      "Send2Trash                    1.5.0               1.8.0       wheel\n",
      "setuptools                    49.2.0.post20200714 62.1.0      wheel\n",
      "singledispatch                3.4.0.3             3.7.0       wheel\n",
      "sip                           4.19.13             6.6.1       wheel\n",
      "six                           1.15.0              1.16.0      wheel\n",
      "snowballstemmer               2.0.0               2.2.0       wheel\n",
      "sortedcollections             1.2.1               2.1.0       wheel\n",
      "sortedcontainers              2.2.2               2.4.0       wheel\n",
      "soupsieve                     2.0.1               2.3.2.post1 wheel\n",
      "Sphinx                        3.1.2               4.5.0       wheel\n",
      "sphinxcontrib-htmlhelp        1.0.3               2.0.0       wheel\n",
      "sphinxcontrib-serializinghtml 1.1.4               1.1.5       wheel\n",
      "sphinxcontrib-websupport      1.2.3               1.2.4       wheel\n",
      "spyder                        4.1.4               5.3.0       wheel\n",
      "spyder-kernels                1.9.2               2.3.0       wheel\n",
      "SQLAlchemy                    1.3.18              1.4.36      wheel\n",
      "statsmodels                   0.11.1              0.13.2      wheel\n",
      "sympy                         1.6.1               1.10.1      wheel\n",
      "tables                        3.6.1               3.7.0       wheel\n",
      "tblib                         1.6.0               1.7.0       wheel\n",
      "terminado                     0.8.3               0.13.3      wheel\n",
      "testpath                      0.4.4               0.6.0       wheel\n",
      "threadpoolctl                 2.1.0               3.1.0       wheel\n",
      "toml                          0.10.1              0.10.2      wheel\n",
      "toolz                         0.10.0              0.11.2      wheel\n",
      "tornado                       6.0.4               6.1         wheel\n",
      "tqdm                          4.47.0              4.64.0      wheel\n",
      "traitlets                     4.3.3               5.1.1       wheel\n",
      "typing-extensions             3.7.4.2             4.2.0       wheel\n",
      "ujson                         1.35                5.2.0       wheel\n",
      "urllib3                       1.25.9              1.26.9      wheel\n",
      "watchdog                      0.10.3              2.1.7       wheel\n",
      "Werkzeug                      1.0.1               2.1.2       wheel\n",
      "wheel                         0.34.2              0.37.1      wheel\n",
      "widgetsnbextension            3.5.1               3.6.0       wheel\n",
      "wrapt                         1.11.2              1.14.1      wheel\n",
      "xlrd                          1.2.0               2.0.1       wheel\n",
      "XlsxWriter                    1.2.9               3.0.3       wheel\n",
      "xlwings                       0.19.5              0.27.7      wheel\n",
      "yapf                          0.30.0              0.32.0      wheel\n",
      "zict                          2.0.0               2.2.0       wheel\n",
      "zipp                          3.1.0               3.8.0       wheel\n",
      "zope.event                    4.4                 4.5.0       wheel\n",
      "zope.interface                4.7.1               5.4.0       wheel\n",
      "Note: you may need to restart the kernel to use updated packages.\n"
     ]
    }
   ],
   "source": [
    "%pip list --outdated"
   ]
  },
  {
   "cell_type": "markdown",
   "metadata": {
    "collapsed": true
   },
   "source": [
    "# Viewing the Package Content"
   ]
  },
  {
   "cell_type": "code",
   "execution_count": 19,
   "metadata": {},
   "outputs": [
    {
     "name": "stdout",
     "output_type": "stream",
     "text": [
      "OS routines for NT or Posix depending on what system we're on.\n",
      "\n",
      "This exports:\n",
      "  - all functions from posix or nt, e.g. unlink, stat, etc.\n",
      "  - os.path is either posixpath or ntpath\n",
      "  - os.name is either 'posix' or 'nt'\n",
      "  - os.curdir is a string representing the current directory (always '.')\n",
      "  - os.pardir is a string representing the parent directory (always '..')\n",
      "  - os.sep is the (or a most common) pathname separator ('/' or '\\\\')\n",
      "  - os.extsep is the extension separator (always '.')\n",
      "  - os.altsep is the alternate pathname separator (None or '/')\n",
      "  - os.pathsep is the component separator used in $PATH etc\n",
      "  - os.linesep is the line separator in text files ('\\r' or '\\n' or '\\r\\n')\n",
      "  - os.defpath is the default search path for executables\n",
      "  - os.devnull is the file path of the null device ('/dev/null', etc.)\n",
      "\n",
      "Programs that import and use 'os' stand a better chance of being\n",
      "portable between different platforms.  Of course, they must then\n",
      "only use functions that are defined by all platforms (e.g., unlink\n",
      "and opendir), and leave all pathname manipulation to os.path\n",
      "(e.g., split and join).\n",
      "\n"
     ]
    }
   ],
   "source": [
    "import os\n",
    "print(os.__doc__)"
   ]
  },
  {
   "cell_type": "code",
   "execution_count": 20,
   "metadata": {},
   "outputs": [
    {
     "data": {
      "text/plain": [
       "['__annotations__',\n",
       " '__call__',\n",
       " '__class__',\n",
       " '__closure__',\n",
       " '__code__',\n",
       " '__defaults__',\n",
       " '__delattr__',\n",
       " '__dict__',\n",
       " '__dir__',\n",
       " '__doc__',\n",
       " '__eq__',\n",
       " '__format__',\n",
       " '__ge__',\n",
       " '__get__',\n",
       " '__getattribute__',\n",
       " '__globals__',\n",
       " '__gt__',\n",
       " '__hash__',\n",
       " '__init__',\n",
       " '__init_subclass__',\n",
       " '__kwdefaults__',\n",
       " '__le__',\n",
       " '__lt__',\n",
       " '__module__',\n",
       " '__name__',\n",
       " '__ne__',\n",
       " '__new__',\n",
       " '__qualname__',\n",
       " '__reduce__',\n",
       " '__reduce_ex__',\n",
       " '__repr__',\n",
       " '__setattr__',\n",
       " '__sizeof__',\n",
       " '__str__',\n",
       " '__subclasshook__']"
      ]
     },
     "execution_count": 20,
     "metadata": {},
     "output_type": "execute_result"
    }
   ],
   "source": [
    "import BPP4D3E_11_Packages\n",
    "dir(BPP4D3E_11_Packages.SayHello)"
   ]
  },
  {
   "cell_type": "code",
   "execution_count": 21,
   "metadata": {},
   "outputs": [
    {
     "name": "stdout",
     "output_type": "stream",
     "text": [
      "Help on built-in function __sizeof__:\n",
      "\n",
      "__sizeof__()\n",
      "    Size of object in memory, in bytes.\n",
      "\n"
     ]
    }
   ],
   "source": [
    "help(\"__sizeof__\")"
   ]
  },
  {
   "cell_type": "code",
   "execution_count": 22,
   "metadata": {},
   "outputs": [
    {
     "data": {
      "text/plain": [
       "120"
      ]
     },
     "execution_count": 22,
     "metadata": {},
     "output_type": "execute_result"
    }
   ],
   "source": [
    "BPP4D3E_11_Packages.SayHello.__sizeof__()"
   ]
  },
  {
   "cell_type": "markdown",
   "metadata": {
    "collapsed": true
   },
   "source": [
    "# Viewing Package Documentation"
   ]
  },
  {
   "cell_type": "markdown",
   "metadata": {},
   "source": [
    "## Using !pydoc to access PyDoc"
   ]
  },
  {
   "cell_type": "code",
   "execution_count": 23,
   "metadata": {},
   "outputs": [
    {
     "name": "stdout",
     "output_type": "stream",
     "text": [
      "pydoc - the Python documentation tool\n",
      "\n",
      "pydoc-script <name> ...\n",
      "    Show text documentation on something.  <name> may be the name of a\n",
      "    Python keyword, topic, function, module, or package, or a dotted\n",
      "    reference to a class or function within a module or module in a\n",
      "    package.  If <name> contains a '\\', it is used as the path to a\n",
      "    Python source file to document. If name is 'keywords', 'topics',\n",
      "    or 'modules', a listing of these things is displayed.\n",
      "\n",
      "pydoc-script -k <keyword>\n",
      "    Search for a keyword in the synopsis lines of all available modules.\n",
      "\n",
      "pydoc-script -n <hostname>\n",
      "    Start an HTTP server with the given hostname (default: localhost).\n",
      "\n",
      "pydoc-script -p <port>\n",
      "    Start an HTTP server on the given port on the local machine.  Port\n",
      "    number 0 can be used to get an arbitrary unused port.\n",
      "\n",
      "pydoc-script -b\n",
      "    Start an HTTP server on an arbitrary unused port and open a Web browser\n",
      "    to interactively browse documentation.  This option can be used in\n",
      "    combination with -n and/or -p.\n",
      "\n",
      "pydoc-script -w <name> ...\n",
      "    Write out the HTML documentation for a module to a file in the current\n",
      "    directory.  If <name> contains a '\\', it is treated as a filename; if\n",
      "    it names a directory, documentation is written for all the contents.\n",
      "\n"
     ]
    }
   ],
   "source": [
    "!pydoc"
   ]
  },
  {
   "cell_type": "markdown",
   "metadata": {},
   "source": [
    "## Typing a search term"
   ]
  },
  {
   "cell_type": "code",
   "execution_count": 24,
   "metadata": {},
   "outputs": [
    {
     "name": "stdout",
     "output_type": "stream",
     "text": [
      "Help on built-in function print in module builtins:\n",
      "\n",
      "print(...)\n",
      "    print(value, ..., sep=' ', end='\\n', file=sys.stdout, flush=False)\n",
      "    \n",
      "    Prints the values to a stream, or to sys.stdout by default.\n",
      "    Optional keyword arguments:\n",
      "    file:  a file-like object (stream); defaults to the current sys.stdout.\n",
      "    sep:   string inserted between values, default a space.\n",
      "    end:   string appended after the last value, default a newline.\n",
      "    flush: whether to forcibly flush the stream.\n",
      "\n"
     ]
    }
   ],
   "source": [
    "!pydoc print"
   ]
  },
  {
   "cell_type": "code",
   "execution_count": 25,
   "metadata": {},
   "outputs": [
    {
     "name": "stdout",
     "output_type": "stream",
     "text": [
      "_io - The io module provides the Python interfaces to stream handling. The\n",
      "asyncio.streams \n",
      "io - The io module provides the Python interfaces to stream handling. The\n",
      "subprocess - Subprocesses with accessible I/O streams\n",
      "anaconda_project.internal.streaming_popen \n",
      "anaconda_project.internal.test.test_streaming_popen \n",
      "astropy.io.fits.hdu.streaming \n",
      "astropy.utils.xml.writer - Contains a class that makes it simple to stream out well-formed and\n",
      "bleach._vendor.html5lib._inputstream \n",
      "distributed.diagnostics.eventstream \n",
      "distributed.diagnostics.progress_stream \n",
      "distributed.diagnostics.task_stream \n",
      "fsspec.compression - Helper functions for a standard streaming compression API\n",
      "html5lib._inputstream \n",
      "ipykernel.iostream - Wrappers for forwarding stdout/stderr over zmq\n",
      "matplotlib.streamplot - Streamline plotting for 2D vector fields.\n",
      "nacl.bindings.crypto_secretstream \n",
      "nbconvert.preprocessors.coalescestreams - Preprocessor for merging consecutive stream outputs for easier handling.\n",
      "nbconvert.preprocessors.tests.test_coalescestreams - Tests for the coalescestreams preprocessor\n",
      "nltk.test.unit.test_seekable_unicode_stream_reader - The following test performs a random series of reads, seeks, and\n",
      "numpy.compat._inspect - Subset of inspect module from upstream python\n",
      "pandas._config - pandas._config is considered explicitly upstream of everything else in pandas,\n",
      "pandas.tests.test_downstream - Testing that we work in the downstream packages\n",
      "pip._vendor.html5lib._inputstream \n",
      "prompt_toolkit.input.vt100_parser - Parser for VT100 input stream.\n",
      "pyls_jsonrpc.streams \n",
      "scipy._lib.messagestream \n",
      "scipy.io.matlab.miobase - Base classes for MATLAB file stream reading.\n",
      "scipy.io.matlab.streams \n",
      "scipy.io.matlab.tests.test_streams - Testing\n",
      "tornado.iostream - Utility classes to write to and read from non-blocking files and sockets.\n",
      "tornado.test.iostream_test \n",
      "win32com.test.testStreams \n",
      "win_unicode_console.streams \n",
      "zmq.eventloop.zmqstream - A utility class to send to and recv from a non-blocking socket,\n",
      "zmq.green.eventloop.zmqstream \n",
      "zmq.tests.test_zmqstream \n"
     ]
    }
   ],
   "source": [
    "!pydoc -k stream"
   ]
  },
  {
   "cell_type": "code",
   "execution_count": null,
   "metadata": {},
   "outputs": [],
   "source": []
  }
 ],
 "metadata": {
  "kernelspec": {
   "display_name": "Python 3",
   "language": "python",
   "name": "python3"
  },
  "language_info": {
   "codemirror_mode": {
    "name": "ipython",
    "version": 3
   },
   "file_extension": ".py",
   "mimetype": "text/x-python",
   "name": "python",
   "nbconvert_exporter": "python",
   "pygments_lexer": "ipython3",
   "version": "3.8.3"
  }
 },
 "nbformat": 4,
 "nbformat_minor": 2
}

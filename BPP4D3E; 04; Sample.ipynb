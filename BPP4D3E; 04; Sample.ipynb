{
 "cells": [
  {
   "cell_type": "markdown",
   "metadata": {
    "id": "MJxq46tfTXBX"
   },
   "source": [
    "# Creating the Application"
   ]
  },
  {
   "cell_type": "markdown",
   "metadata": {
    "id": "m3dfeLeSbJda"
   },
   "source": [
    "## Developing the code"
   ]
  },
  {
   "cell_type": "code",
   "execution_count": 1,
   "metadata": {
    "colab": {
     "base_uri": "https://localhost:8080/"
    },
    "id": "dCVtQwI5TMmF",
    "outputId": "253b1acb-ea7f-4437-a3ce-33982bc7609f"
   },
   "outputs": [],
   "source": [
    "# Define a function to encapsulate task code that accepts\n",
    "# two pieces of information in boxes called variables\n",
    "# named value1 and value2.\n",
    "def addSomething(value1, value2):\n",
    "    \n",
    "    # Add the two values together and return the result\n",
    "    # to the caller.\n",
    "    return value1 + value2\n",
    "\n",
    "# Call the addSomething() function with two numbers to\n",
    "# add and then use print() to display the result.\n",
    "print(addSomething(1, 2))"
   ]
  },
  {
   "cell_type": "markdown",
   "metadata": {
    "id": "6ur5f4Mri6lr"
   },
   "source": [
    "## Interacting with form fields"
   ]
  },
  {
   "cell_type": "code",
   "execution_count": 2,
   "metadata": {
    "colab": {
     "base_uri": "https://localhost:8080/"
    },
    "id": "s-TfQ_hWTVaA",
    "outputId": "0dc31f90-b951-4cde-dbf1-64e036e2cf97"
   },
   "outputs": [
    {
     "name": "stdout",
     "output_type": "stream",
     "text": [
      "Type your name: John\n",
      "Your name is: John\n"
     ]
    }
   ],
   "source": [
    "name = input(\"Type your name: \")\n",
    "print(f\"Your name is: {name}\")"
   ]
  },
  {
   "cell_type": "code",
   "execution_count": 3,
   "metadata": {
    "colab": {
     "base_uri": "https://localhost:8080/"
    },
    "id": "_HnrTFoUvy2J",
    "outputId": "9f05958a-fd26-45ae-be04-2d5126016856"
   },
   "outputs": [
    {
     "name": "stdout",
     "output_type": "stream",
     "text": [
      "Your name is: John\n"
     ]
    }
   ],
   "source": [
    "YourName = \"John\" #@param {type:\"string\"}\n",
    "print(f\"Your name is: {YourName}\")"
   ]
  },
  {
   "cell_type": "code",
   "execution_count": null,
   "metadata": {},
   "outputs": [],
   "source": []
  }
 ],
 "metadata": {
  "colab": {
   "name": "BPP4D3E; 04; Sample.ipynb",
   "provenance": []
  },
  "kernelspec": {
   "display_name": "Python 3",
   "language": "python",
   "name": "python3"
  },
  "language_info": {
   "codemirror_mode": {
    "name": "ipython",
    "version": 3
   },
   "file_extension": ".py",
   "mimetype": "text/x-python",
   "name": "python",
   "nbconvert_exporter": "python",
   "pygments_lexer": "ipython3",
   "version": "3.8.3"
  }
 },
 "nbformat": 4,
 "nbformat_minor": 1
}

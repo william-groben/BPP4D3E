{
 "cells": [
  {
   "cell_type": "markdown",
   "metadata": {},
   "source": [
    "# Processing Data Using the for Statement"
   ]
  },
  {
   "cell_type": "markdown",
   "metadata": {},
   "source": [
    "## Creating a basic for loop"
   ]
  },
  {
   "cell_type": "code",
   "execution_count": 1,
   "metadata": {},
   "outputs": [
    {
     "name": "stdout",
     "output_type": "stream",
     "text": [
      "Letter  1  is  H\n",
      "Letter  2  is  o\n",
      "Letter  3  is  w\n",
      "Letter  4  is  d\n",
      "Letter  5  is  y\n",
      "Letter  6  is  !\n"
     ]
    }
   ],
   "source": [
    "LetterNum = 1\n",
    "for Letter in \"Howdy!\":\n",
    "   print(\"Letter \", LetterNum, \" is \", Letter)\n",
    "   LetterNum+=1"
   ]
  },
  {
   "cell_type": "markdown",
   "metadata": {},
   "source": [
    "## Controlling execution with the break statement"
   ]
  },
  {
   "cell_type": "code",
   "execution_count": 2,
   "metadata": {},
   "outputs": [
    {
     "name": "stdout",
     "output_type": "stream",
     "text": [
      "Type less than 6 characters: I am too long.\n",
      "Letter  1  is  I\n",
      "Letter  2  is   \n",
      "Letter  3  is  a\n",
      "Letter  4  is  m\n",
      "Letter  5  is   \n",
      "Letter  6  is  t\n",
      "The string is too long!\n"
     ]
    }
   ],
   "source": [
    "Value = input(\"Type less than 6 characters: \")\n",
    "LetterNum = 1\n",
    "for Letter in Value:\n",
    "   print(\"Letter \", LetterNum, \" is \", Letter)\n",
    "   LetterNum+=1\n",
    "   if LetterNum > 6:\n",
    "      print(\"The string is too long!\")\n",
    "      break"
   ]
  },
  {
   "cell_type": "markdown",
   "metadata": {},
   "source": [
    "## Controlling execution with the continue statement"
   ]
  },
  {
   "cell_type": "code",
   "execution_count": 3,
   "metadata": {},
   "outputs": [
    {
     "name": "stdout",
     "output_type": "stream",
     "text": [
      "Letter  1  is  H\n",
      "Letter  2  is  o\n",
      "Letter  3  is  d\n",
      "Letter  4  is  y\n",
      "Letter  5  is  !\n"
     ]
    }
   ],
   "source": [
    "LetterNum = 1\n",
    "for Letter in \"Howdy!\":\n",
    "   if Letter == \"w\":\n",
    "      continue\n",
    "      print(\"Encountered w, not processed.\")\n",
    "   print(\"Letter \", LetterNum, \" is \", Letter)\n",
    "   LetterNum+=1"
   ]
  },
  {
   "cell_type": "markdown",
   "metadata": {},
   "source": [
    "## Doing nothing with the pass statement"
   ]
  },
  {
   "cell_type": "code",
   "execution_count": 4,
   "metadata": {},
   "outputs": [
    {
     "name": "stdout",
     "output_type": "stream",
     "text": [
      "Letter  1  is  H\n",
      "Letter  2  is  o\n",
      "Letter  3  is  w\n",
      "Letter  4  is  d\n",
      "Letter  5  is  y\n",
      "Letter  6  is  !\n"
     ]
    }
   ],
   "source": [
    "LetterNum = 1\n",
    "for Letter in \"Howdy!\":\n",
    "   if Letter == \"w\":\n",
    "      pass #Add some code here later to process w\n",
    "   print(\"Letter \", LetterNum, \" is \", Letter)\n",
    "   LetterNum+=1"
   ]
  },
  {
   "cell_type": "markdown",
   "metadata": {},
   "source": [
    "## Validating input with the else statement"
   ]
  },
  {
   "cell_type": "code",
   "execution_count": 5,
   "metadata": {},
   "outputs": [
    {
     "name": "stdout",
     "output_type": "stream",
     "text": [
      "Type less than 6 characters: \n",
      "The string is blank.\n"
     ]
    }
   ],
   "source": [
    "Value = input(\"Type less than 6 characters: \")\n",
    "LetterNum = 1\n",
    "for Letter in Value:\n",
    "  print(\"Letter \", LetterNum, \" is \", Letter)\n",
    "  LetterNum+=1\n",
    "  if (Letter == \"\" or Letter == Value[-1]):\n",
    "    break\n",
    "else:\n",
    "  print(\"The string is blank.\")"
   ]
  },
  {
   "cell_type": "markdown",
   "metadata": {},
   "source": [
    "# Processing Data Using the while Statement"
   ]
  },
  {
   "cell_type": "markdown",
   "metadata": {},
   "source": [
    "## Using the while statement in an application "
   ]
  },
  {
   "cell_type": "code",
   "execution_count": 6,
   "metadata": {},
   "outputs": [
    {
     "name": "stdout",
     "output_type": "stream",
     "text": [
      "0\n",
      "1\n",
      "2\n",
      "3\n",
      "4\n"
     ]
    }
   ],
   "source": [
    "Sum = 0\n",
    "while Sum < 5:\n",
    "   print(Sum)\n",
    "   Sum+=1"
   ]
  },
  {
   "cell_type": "markdown",
   "metadata": {},
   "source": [
    "## Nesting Loop Statements"
   ]
  },
  {
   "cell_type": "code",
   "execution_count": 7,
   "metadata": {},
   "outputs": [
    {
     "name": "stdout",
     "output_type": "stream",
     "text": [
      "        1    2    3    4    5    6    7    8    9   10 \n",
      "   1    1    2    3    4    5    6    7    8    9   10 \n",
      "   2    2    4    6    8   10   12   14   16   18   20 \n",
      "   3    3    6    9   12   15   18   21   24   27   30 \n",
      "   4    4    8   12   16   20   24   28   32   36   40 \n",
      "   5    5   10   15   20   25   30   35   40   45   50 \n",
      "   6    6   12   18   24   30   36   42   48   54   60 \n",
      "   7    7   14   21   28   35   42   49   56   63   70 \n",
      "   8    8   16   24   32   40   48   56   64   72   80 \n",
      "   9    9   18   27   36   45   54   63   72   81   90 \n",
      "  10   10   20   30   40   50   60   70   80   90  100 \n"
     ]
    }
   ],
   "source": [
    "X = 1\n",
    "Y = 1\n",
    "print ('{:>4}'.format(' '), end= ' ')\n",
    "for X in range(1, 11):\n",
    "   print('{:>4}'.format(X), end=' ')\n",
    "print()\n",
    "for X in range(1,11):\n",
    "   print('{:>4}'.format(X), end=' ')\n",
    "   while Y <= 10:\n",
    "      print('{:>4}'.format(X * Y), end=' ')\n",
    "      Y+=1\n",
    "   print()\n",
    "   Y=1"
   ]
  },
  {
   "cell_type": "code",
   "execution_count": null,
   "metadata": {},
   "outputs": [],
   "source": []
  }
 ],
 "metadata": {
  "kernelspec": {
   "display_name": "Python 3",
   "language": "python",
   "name": "python3"
  },
  "language_info": {
   "codemirror_mode": {
    "name": "ipython",
    "version": 3
   },
   "file_extension": ".py",
   "mimetype": "text/x-python",
   "name": "python",
   "nbconvert_exporter": "python",
   "pygments_lexer": "ipython3",
   "version": "3.8.3"
  }
 },
 "nbformat": 4,
 "nbformat_minor": 2
}

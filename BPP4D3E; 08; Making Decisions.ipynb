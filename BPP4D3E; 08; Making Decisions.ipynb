{
 "cells": [
  {
   "cell_type": "markdown",
   "metadata": {},
   "source": [
    "# Making Simple Decisions Using the if Statement"
   ]
  },
  {
   "cell_type": "markdown",
   "metadata": {},
   "source": [
    "## Understanding the if statement"
   ]
  },
  {
   "cell_type": "code",
   "execution_count": 1,
   "metadata": {},
   "outputs": [
    {
     "name": "stdout",
     "output_type": "stream",
     "text": [
      "TestMe does equal 6!\n"
     ]
    }
   ],
   "source": [
    "TestMe = 6\n",
    "if TestMe == 6:\n",
    "   print(\"TestMe does equal 6!\")"
   ]
  },
  {
   "cell_type": "markdown",
   "metadata": {},
   "source": [
    "## Using the if statement in an application"
   ]
  },
  {
   "cell_type": "markdown",
   "metadata": {},
   "source": [
    "### Working with relational operators"
   ]
  },
  {
   "cell_type": "code",
   "execution_count": 2,
   "metadata": {},
   "outputs": [
    {
     "name": "stdout",
     "output_type": "stream",
     "text": [
      "TestMe does equal 6!\n"
     ]
    }
   ],
   "source": [
    "TestMe = 6\n",
    "if TestMe == 6:\n",
    "   print(\"TestMe does equal 6!\")"
   ]
  },
  {
   "cell_type": "markdown",
   "metadata": {},
   "source": [
    "### Performing multiple tasks"
   ]
  },
  {
   "cell_type": "code",
   "execution_count": 3,
   "metadata": {},
   "outputs": [
    {
     "name": "stdout",
     "output_type": "stream",
     "text": [
      "TestMe does equal 6!\n",
      "All done!\n"
     ]
    }
   ],
   "source": [
    "TestMe = 6\n",
    "if TestMe == 6:\n",
    "   print(\"TestMe does equal 6!\")\n",
    "   print(\"All done!\")"
   ]
  },
  {
   "cell_type": "markdown",
   "metadata": {},
   "source": [
    "### Making multiple comparisons using logical operators"
   ]
  },
  {
   "cell_type": "code",
   "execution_count": 4,
   "metadata": {},
   "outputs": [
    {
     "name": "stdout",
     "output_type": "stream",
     "text": [
      "Type a number between 1 and 10: 5\n",
      "You typed:  5\n"
     ]
    }
   ],
   "source": [
    "Value = int(input(\"Type a number between 1 and 10: \"))\n",
    "if (Value > 0) and (Value <= 10):\n",
    "   print(\"You typed: \", Value)"
   ]
  },
  {
   "cell_type": "code",
   "execution_count": 5,
   "metadata": {},
   "outputs": [
    {
     "name": "stdout",
     "output_type": "stream",
     "text": [
      "Type a number between 1 and 10: 22\n"
     ]
    }
   ],
   "source": [
    "Value = int(input(\"Type a number between 1 and 10: \"))\n",
    "if (Value > 0) and (Value <= 10):\n",
    "   print(\"You typed: \", Value)"
   ]
  },
  {
   "cell_type": "code",
   "execution_count": 6,
   "metadata": {},
   "outputs": [
    {
     "name": "stdout",
     "output_type": "stream",
     "text": [
      "Type a number between 1 and 10: 5.5\n"
     ]
    },
    {
     "ename": "ValueError",
     "evalue": "invalid literal for int() with base 10: '5.5'",
     "output_type": "error",
     "traceback": [
      "\u001b[1;31m---------------------------------------------------------------------------\u001b[0m",
      "\u001b[1;31mValueError\u001b[0m                                Traceback (most recent call last)",
      "\u001b[1;32m<ipython-input-6-c9bf963d9691>\u001b[0m in \u001b[0;36m<module>\u001b[1;34m\u001b[0m\n\u001b[1;32m----> 1\u001b[1;33m \u001b[0mValue\u001b[0m \u001b[1;33m=\u001b[0m \u001b[0mint\u001b[0m\u001b[1;33m(\u001b[0m\u001b[0minput\u001b[0m\u001b[1;33m(\u001b[0m\u001b[1;34m\"Type a number between 1 and 10: \"\u001b[0m\u001b[1;33m)\u001b[0m\u001b[1;33m)\u001b[0m\u001b[1;33m\u001b[0m\u001b[1;33m\u001b[0m\u001b[0m\n\u001b[0m\u001b[0;32m      2\u001b[0m \u001b[1;32mif\u001b[0m \u001b[1;33m(\u001b[0m\u001b[0mValue\u001b[0m \u001b[1;33m>\u001b[0m \u001b[1;36m0\u001b[0m\u001b[1;33m)\u001b[0m \u001b[1;32mand\u001b[0m \u001b[1;33m(\u001b[0m\u001b[0mValue\u001b[0m \u001b[1;33m<=\u001b[0m \u001b[1;36m10\u001b[0m\u001b[1;33m)\u001b[0m\u001b[1;33m:\u001b[0m\u001b[1;33m\u001b[0m\u001b[1;33m\u001b[0m\u001b[0m\n\u001b[0;32m      3\u001b[0m    \u001b[0mprint\u001b[0m\u001b[1;33m(\u001b[0m\u001b[1;34m\"You typed: \"\u001b[0m\u001b[1;33m,\u001b[0m \u001b[0mValue\u001b[0m\u001b[1;33m)\u001b[0m\u001b[1;33m\u001b[0m\u001b[1;33m\u001b[0m\u001b[0m\n",
      "\u001b[1;31mValueError\u001b[0m: invalid literal for int() with base 10: '5.5'"
     ]
    }
   ],
   "source": [
    "Value = int(input(\"Type a number between 1 and 10: \"))\n",
    "if (Value > 0) and (Value <= 10):\n",
    "   print(\"You typed: \", Value)"
   ]
  },
  {
   "cell_type": "code",
   "execution_count": 7,
   "metadata": {},
   "outputs": [
    {
     "name": "stdout",
     "output_type": "stream",
     "text": [
      "Type a number between 1 and 10: Hello\n"
     ]
    },
    {
     "ename": "ValueError",
     "evalue": "invalid literal for int() with base 10: 'Hello'",
     "output_type": "error",
     "traceback": [
      "\u001b[1;31m---------------------------------------------------------------------------\u001b[0m",
      "\u001b[1;31mValueError\u001b[0m                                Traceback (most recent call last)",
      "\u001b[1;32m<ipython-input-7-c9bf963d9691>\u001b[0m in \u001b[0;36m<module>\u001b[1;34m\u001b[0m\n\u001b[1;32m----> 1\u001b[1;33m \u001b[0mValue\u001b[0m \u001b[1;33m=\u001b[0m \u001b[0mint\u001b[0m\u001b[1;33m(\u001b[0m\u001b[0minput\u001b[0m\u001b[1;33m(\u001b[0m\u001b[1;34m\"Type a number between 1 and 10: \"\u001b[0m\u001b[1;33m)\u001b[0m\u001b[1;33m)\u001b[0m\u001b[1;33m\u001b[0m\u001b[1;33m\u001b[0m\u001b[0m\n\u001b[0m\u001b[0;32m      2\u001b[0m \u001b[1;32mif\u001b[0m \u001b[1;33m(\u001b[0m\u001b[0mValue\u001b[0m \u001b[1;33m>\u001b[0m \u001b[1;36m0\u001b[0m\u001b[1;33m)\u001b[0m \u001b[1;32mand\u001b[0m \u001b[1;33m(\u001b[0m\u001b[0mValue\u001b[0m \u001b[1;33m<=\u001b[0m \u001b[1;36m10\u001b[0m\u001b[1;33m)\u001b[0m\u001b[1;33m:\u001b[0m\u001b[1;33m\u001b[0m\u001b[1;33m\u001b[0m\u001b[0m\n\u001b[0;32m      3\u001b[0m    \u001b[0mprint\u001b[0m\u001b[1;33m(\u001b[0m\u001b[1;34m\"You typed: \"\u001b[0m\u001b[1;33m,\u001b[0m \u001b[0mValue\u001b[0m\u001b[1;33m)\u001b[0m\u001b[1;33m\u001b[0m\u001b[1;33m\u001b[0m\u001b[0m\n",
      "\u001b[1;31mValueError\u001b[0m: invalid literal for int() with base 10: 'Hello'"
     ]
    }
   ],
   "source": [
    "Value = int(input(\"Type a number between 1 and 10: \"))\n",
    "if (Value > 0) and (Value <= 10):\n",
    "   print(\"You typed: \", Value)"
   ]
  },
  {
   "cell_type": "markdown",
   "metadata": {},
   "source": [
    "# Choosing Alternatives Using the if...else Statement"
   ]
  },
  {
   "cell_type": "markdown",
   "metadata": {},
   "source": [
    "## Using the if...else statement in an application"
   ]
  },
  {
   "cell_type": "code",
   "execution_count": 8,
   "metadata": {},
   "outputs": [
    {
     "name": "stdout",
     "output_type": "stream",
     "text": [
      "Type a number between 1 and 10: 22\n",
      "The value you typed is incorrect!\n"
     ]
    }
   ],
   "source": [
    "Value = int(input(\"Type a number between 1 and 10: \"))\n",
    "if (Value > 0) and (Value <= 10):\n",
    "   print(\"You typed: \", Value)\n",
    "else:\n",
    "   print(\"The value you typed is incorrect!\")"
   ]
  },
  {
   "cell_type": "markdown",
   "metadata": {
    "collapsed": true
   },
   "source": [
    "## Using the if...elif statement in an application"
   ]
  },
  {
   "cell_type": "code",
   "execution_count": 9,
   "metadata": {},
   "outputs": [
    {
     "name": "stdout",
     "output_type": "stream",
     "text": [
      "1. Red\n",
      "2. Orange\n",
      "3. Yellow\n",
      "4. Green\n",
      "5. Blue\n",
      "6. Purple\n",
      "Select your favorite color: Red\n"
     ]
    },
    {
     "ename": "ValueError",
     "evalue": "invalid literal for int() with base 10: 'Red'",
     "output_type": "error",
     "traceback": [
      "\u001b[1;31m---------------------------------------------------------------------------\u001b[0m",
      "\u001b[1;31mValueError\u001b[0m                                Traceback (most recent call last)",
      "\u001b[1;32m<ipython-input-9-e5261cca43c4>\u001b[0m in \u001b[0;36m<module>\u001b[1;34m\u001b[0m\n\u001b[0;32m      5\u001b[0m \u001b[0mprint\u001b[0m\u001b[1;33m(\u001b[0m\u001b[1;34m\"5. Blue\"\u001b[0m\u001b[1;33m)\u001b[0m\u001b[1;33m\u001b[0m\u001b[1;33m\u001b[0m\u001b[0m\n\u001b[0;32m      6\u001b[0m \u001b[0mprint\u001b[0m\u001b[1;33m(\u001b[0m\u001b[1;34m\"6. Purple\"\u001b[0m\u001b[1;33m)\u001b[0m\u001b[1;33m\u001b[0m\u001b[1;33m\u001b[0m\u001b[0m\n\u001b[1;32m----> 7\u001b[1;33m \u001b[0mChoice\u001b[0m \u001b[1;33m=\u001b[0m \u001b[0mint\u001b[0m\u001b[1;33m(\u001b[0m\u001b[0minput\u001b[0m\u001b[1;33m(\u001b[0m\u001b[1;34m\"Select your favorite color: \"\u001b[0m\u001b[1;33m)\u001b[0m\u001b[1;33m)\u001b[0m\u001b[1;33m\u001b[0m\u001b[1;33m\u001b[0m\u001b[0m\n\u001b[0m\u001b[0;32m      8\u001b[0m \u001b[1;32mif\u001b[0m \u001b[1;33m(\u001b[0m\u001b[0mChoice\u001b[0m \u001b[1;33m==\u001b[0m \u001b[1;36m1\u001b[0m\u001b[1;33m)\u001b[0m\u001b[1;33m:\u001b[0m\u001b[1;33m\u001b[0m\u001b[1;33m\u001b[0m\u001b[0m\n\u001b[0;32m      9\u001b[0m    \u001b[0mprint\u001b[0m\u001b[1;33m(\u001b[0m\u001b[1;34m\"You chose Red!\"\u001b[0m\u001b[1;33m)\u001b[0m\u001b[1;33m\u001b[0m\u001b[1;33m\u001b[0m\u001b[0m\n",
      "\u001b[1;31mValueError\u001b[0m: invalid literal for int() with base 10: 'Red'"
     ]
    }
   ],
   "source": [
    "print(\"1. Red\")\n",
    "print(\"2. Orange\")\n",
    "print(\"3. Yellow\")\n",
    "print(\"4. Green\")\n",
    "print(\"5. Blue\")\n",
    "print(\"6. Purple\")\n",
    "Choice = int(input(\"Select your favorite color: \"))\n",
    "if (Choice == 1):\n",
    "   print(\"You chose Red!\")\n",
    "elif (Choice == 2):\n",
    "   print(\"You chose Orange!\")\n",
    "elif (Choice == 3):\n",
    "   print(\"You chose Yellow!\")\n",
    "elif (Choice == 4):\n",
    "   print(\"You chose Green!\")\n",
    "elif (Choice == 5):\n",
    "   print(\"You chose Blue!\")\n",
    "elif (Choice == 6):\n",
    "   print(\"You chose Purple!\")\n",
    "else:\n",
    "   print(\"You made an invalid choice!\")"
   ]
  },
  {
   "cell_type": "markdown",
   "metadata": {},
   "source": [
    "# Using Nested Decision Statements"
   ]
  },
  {
   "cell_type": "markdown",
   "metadata": {},
   "source": [
    "## Using multiple if or if...else statements"
   ]
  },
  {
   "cell_type": "code",
   "execution_count": 10,
   "metadata": {},
   "outputs": [
    {
     "name": "stdout",
     "output_type": "stream",
     "text": [
      "Type a number between 1 and 10: 5\n",
      "Type a number between 1 and 10: 2\n",
      "Your secret number is:  10\n"
     ]
    }
   ],
   "source": [
    "One = int(input(\"Type a number between 1 and 10: \"))\n",
    "Two = int(input(\"Type a number between 1 and 10: \"))\n",
    "if (One >= 1) and (One <= 10):\n",
    "   if (Two >= 1) and (Two <= 10):\n",
    "      print(\"Your secret number is: \", One * Two)\n",
    "   else:\n",
    "      print(\"Incorrect second value!\")\n",
    "else:\n",
    "   print(\"Incorrect first value!\")"
   ]
  },
  {
   "cell_type": "markdown",
   "metadata": {},
   "source": [
    "## Combining other types of decisions"
   ]
  },
  {
   "cell_type": "code",
   "execution_count": 11,
   "metadata": {},
   "outputs": [
    {
     "name": "stdout",
     "output_type": "stream",
     "text": [
      "1. Eggs\n",
      "2. Pancakes\n",
      "3. Waffles\n",
      "4. Oatmeal\n",
      "Choose a breakfast item: 1\n",
      "1. Wheat Toast\n",
      "2. Sour Dough\n",
      "3. Rye Toast\n",
      "4. Pancakes\n",
      "Choose a type of bread: 2\n",
      "You chose eggs with sour dough.\n"
     ]
    }
   ],
   "source": [
    "print(\"1. Eggs\")\n",
    "print(\"2. Pancakes\")\n",
    "print(\"3. Waffles\")\n",
    "print(\"4. Oatmeal\")\n",
    "MainChoice = int(input(\"Choose a breakfast item: \"))\n",
    "if (MainChoice == 2):\n",
    "   Meal = \"Pancakes\"\n",
    "elif (MainChoice == 3):\n",
    "   Meal = \"Waffles\"\n",
    "if (MainChoice == 1):\n",
    "   print(\"1. Wheat Toast\")\n",
    "   print(\"2. Sour Dough\")\n",
    "   print(\"3. Rye Toast\")\n",
    "   print(\"4. Pancakes\")\n",
    "   Bread = int(input(\"Choose a type of bread: \"))\n",
    "   if (Bread == 1):\n",
    "      print(\"You chose eggs with wheat toast.\")\n",
    "   elif (Bread == 2):\n",
    "      print(\"You chose eggs with sour dough.\")\n",
    "   elif (Bread == 3):\n",
    "      print(\"You chose eggs with rye toast.\")\n",
    "   elif (Bread == 4):\n",
    "      print(\"You chose eggs with pancakes.\")\n",
    "   else:\n",
    "      print(\"We have eggs, but not that kind of bread.\")\n",
    "elif (MainChoice == 2) or (MainChoice == 3):\n",
    "   print(\"1. Syrup\")\n",
    "   print(\"2. Strawberries\")\n",
    "   print(\"3. Powdered Sugar\")\n",
    "   Topping = int(input(\"Choose a topping: \"))\n",
    "   if (Topping == 1):\n",
    "      print (\"You chose \" + Meal + \" with syrup.\")\n",
    "   elif (Topping == 2):\n",
    "      print (\"You chose \" + Meal + \" with strawberries.\")\n",
    "   elif (Topping == 3):\n",
    "      print (\"You chose \" + Meal + \" with powdered sugar.\")\n",
    "   else:\n",
    "      print (\"We have \" + Meal + \", but not that topping.\")\n",
    "elif (MainChoice == 4):\n",
    "   print(\"You chose oatmeal.\")\n",
    "else:\n",
    "   print(\"We don't serve that breakfast item!\")"
   ]
  },
  {
   "cell_type": "code",
   "execution_count": null,
   "metadata": {
    "collapsed": true
   },
   "outputs": [],
   "source": []
  }
 ],
 "metadata": {
  "kernelspec": {
   "display_name": "Python 3",
   "language": "python",
   "name": "python3"
  },
  "language_info": {
   "codemirror_mode": {
    "name": "ipython",
    "version": 3
   },
   "file_extension": ".py",
   "mimetype": "text/x-python",
   "name": "python",
   "nbconvert_exporter": "python",
   "pygments_lexer": "ipython3",
   "version": "3.8.3"
  }
 },
 "nbformat": 4,
 "nbformat_minor": 2
}

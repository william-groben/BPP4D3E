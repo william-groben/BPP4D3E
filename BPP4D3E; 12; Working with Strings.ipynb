{
 "cells": [
  {
   "cell_type": "markdown",
   "metadata": {},
   "source": [
    "# Understanding That Strings Are Different"
   ]
  },
  {
   "cell_type": "markdown",
   "metadata": {},
   "source": [
    "## Using characters to create strings"
   ]
  },
  {
   "cell_type": "code",
   "execution_count": 1,
   "metadata": {},
   "outputs": [
    {
     "name": "stdout",
     "output_type": "stream",
     "text": [
      "Hello There (Single Quote)!\n",
      "Hello There (Double Quote)!\n",
      "This is a multiple line\n",
      "string using triple double quotes.\n",
      "You can also use triple single quotes.\n"
     ]
    }
   ],
   "source": [
    "print('Hello There (Single Quote)!')\n",
    "print(\"Hello There (Double Quote)!\")\n",
    "print(\"\"\"This is a multiple line\n",
    "string using triple double quotes.\n",
    "You can also use triple single quotes.\"\"\")"
   ]
  },
  {
   "cell_type": "markdown",
   "metadata": {},
   "source": [
    "# Creating Stings with Special Characters"
   ]
  },
  {
   "cell_type": "code",
   "execution_count": 2,
   "metadata": {},
   "outputs": [
    {
     "name": "stdout",
     "output_type": "stream",
     "text": [
      "Part of this text\r\n",
      "is on the next line.\n",
      "This is an A with a grave accent: À.\n",
      "This is a drawing character: ╢.\n",
      "This is a pilcrow: ¶.\n",
      "This is a division sign: ÷.\n"
     ]
    }
   ],
   "source": [
    "print(\"Part of this text\\r\\nis on the next line.\")\n",
    "print(\"This is an A with a grave accent: \\xC0.\")\n",
    "print(\"This is a drawing character: \\u2562.\")\n",
    "print(\"This is a pilcrow: \\266.\")\n",
    "print(\"This is a division sign: \\xF7.\")"
   ]
  },
  {
   "cell_type": "markdown",
   "metadata": {},
   "source": [
    "# Selecting Individual Characters"
   ]
  },
  {
   "cell_type": "code",
   "execution_count": 3,
   "metadata": {},
   "outputs": [
    {
     "name": "stdout",
     "output_type": "stream",
     "text": [
      "H\n",
      "Hello\n",
      "Hello\n",
      "World\n",
      "Hello Python\n",
      "Python Python Python Python Python \n"
     ]
    }
   ],
   "source": [
    "String1 = \"Hello World\"\n",
    "String2 = \"Python is Fun!\"\n",
    "print(String1[0])\n",
    "print(String1[0:5])\n",
    "print(String1[:5])\n",
    "print(String1[6:])\n",
    "String3 = String1[:6] + String2[:6]\n",
    "print(String3)\n",
    "print(String2[:7]*5)"
   ]
  },
  {
   "cell_type": "markdown",
   "metadata": {},
   "source": [
    "# Slicing and Dicing Strings"
   ]
  },
  {
   "cell_type": "code",
   "execution_count": 4,
   "metadata": {},
   "outputs": [
    {
     "name": "stdout",
     "output_type": "stream",
     "text": [
      "  HELLO WORLD  \n",
      "Hello World\n",
      "***  Hello World  ***\n",
      "*****Hello World*****\n",
      "False\n",
      "True\n",
      "r\n",
      "['Hello', 'World']\n",
      "Hello\n"
     ]
    }
   ],
   "source": [
    "MyString = \"  Hello World  \"\n",
    "print(MyString.upper())\n",
    "print(MyString.strip())\n",
    "print(MyString.center(21, \"*\"))\n",
    "print(MyString.strip().center(21, \"*\"))\n",
    "print(MyString.isdigit())\n",
    "print(MyString.istitle())\n",
    "print(max(MyString))\n",
    "print(MyString.split())\n",
    "print(MyString.split()[0])"
   ]
  },
  {
   "cell_type": "markdown",
   "metadata": {},
   "source": [
    "# Locating a Value in a String"
   ]
  },
  {
   "cell_type": "code",
   "execution_count": 5,
   "metadata": {},
   "outputs": [
    {
     "name": "stdout",
     "output_type": "stream",
     "text": [
      "10\n",
      "31\n",
      "2\n",
      "True\n",
      "False\n",
      "The car is red and the truck is blue!\n"
     ]
    }
   ],
   "source": [
    "SearchMe = \"The apple is red and the berry is blue!\"\n",
    "print(SearchMe.find(\"is\"))\n",
    "print(SearchMe.rfind(\"is\"))\n",
    "print(SearchMe.count(\"is\"))\n",
    "print(SearchMe.startswith(\"The\"))\n",
    "print(SearchMe.endswith(\"The\"))\n",
    "print(SearchMe.replace(\"apple\", \"car\")\n",
    "      .replace(\"berry\", \"truck\"))"
   ]
  },
  {
   "cell_type": "markdown",
   "metadata": {},
   "source": [
    "# Using String Interpolation"
   ]
  },
  {
   "cell_type": "markdown",
   "metadata": {},
   "source": [
    "## Employing the % (modulo) approach"
   ]
  },
  {
   "cell_type": "code",
   "execution_count": 6,
   "metadata": {},
   "outputs": [
    {
     "name": "stdout",
     "output_type": "stream",
     "text": [
      "a is lowercase A\n",
      "Violets are Blue\n",
      "60 is 0x3c hexadecimal\n"
     ]
    }
   ],
   "source": [
    "print(\"%c is lowercase %c\" %('a', 65))\n",
    "print(\"%s are %s\" %(\"Violets\", \"Blue\"))\n",
    "print(\"%d is %#x hexadecimal\" %(60, 60))"
   ]
  },
  {
   "cell_type": "code",
   "execution_count": 7,
   "metadata": {},
   "outputs": [
    {
     "name": "stdout",
     "output_type": "stream",
     "text": [
      " 1.000000e+02 is smaller than INF.\n",
      "100.000 is smaller than inf.\n",
      "00100\n"
     ]
    }
   ],
   "source": [
    "Value1 = 100\n",
    "Value2 = float('inf')\n",
    "print('% e is smaller than %E.' %(Value1, Value2))\n",
    "print(\"%.3F is smaller than %.2f.\" %(Value1, \n",
    "                                     Value2))\n",
    "print(\"%05d\" %Value1)"
   ]
  },
  {
   "cell_type": "code",
   "execution_count": 8,
   "metadata": {},
   "outputs": [
    {
     "name": "stdout",
     "output_type": "stream",
     "text": [
      "Monica is a Designer inEngineering.\n",
      "Sam is a Programmer inSoftware.\n"
     ]
    }
   ],
   "source": [
    "Employees = {\n",
    "    'Monica': {\n",
    "        'Occupation': \"Designer\",\n",
    "        'Name': \"Monica\",\n",
    "        'Department': \"Engineering\"\n",
    "    },\n",
    "    'Sam': {\n",
    "        'Occupation': \"Programmer\",\n",
    "        'Name': \"Sam\",\n",
    "        'Department': \"Software\"\n",
    "    }\n",
    "}\n",
    "\n",
    "for Item in Employees:\n",
    "    print(\"%(Name)s is a %(Occupation)s in\" \\\n",
    "        \"%(Department)s.\" %Employees[Item])"
   ]
  },
  {
   "cell_type": "markdown",
   "metadata": {},
   "source": [
    "## Working with the .format() function"
   ]
  },
  {
   "cell_type": "code",
   "execution_count": 9,
   "metadata": {},
   "outputs": [
    {
     "name": "stdout",
     "output_type": "stream",
     "text": [
      "7000\n",
      "7,000\n",
      "     7,000     \n",
      "*****7,000*****\n",
      "****7000.00****\n",
      "***********1B58\n",
      "0x1b58*********\n",
      "A blue car and a blue truck.\n"
     ]
    }
   ],
   "source": [
    "Formatted = \"{:d}\"\n",
    "print(Formatted.format(7000))\n",
    "Formatted = \"{:,d}\"\n",
    "print(Formatted.format(7000))\n",
    "Formatted = \"{:^15,d}\"\n",
    "print(Formatted.format(7000))\n",
    "Formatted = \"{:*^15,d}\"\n",
    "print(Formatted.format(7000))\n",
    "Formatted = \"{:*^15.2f}\"\n",
    "print(Formatted.format(7000))\n",
    "Formatted = \"{:*>15X}\"\n",
    "print(Formatted.format(7000))\n",
    "Formatted = \"{:*<#15x}\"\n",
    "print(Formatted.format(7000))\n",
    "Formatted = \"A {0} {1} and a {0} {2}.\"\n",
    "print(Formatted.format(\"blue\", \"car\", \"truck\"))"
   ]
  },
  {
   "cell_type": "markdown",
   "metadata": {
    "collapsed": true
   },
   "source": [
    "## Simplifying things using f-string"
   ]
  },
  {
   "cell_type": "code",
   "execution_count": 10,
   "metadata": {},
   "outputs": [
    {
     "name": "stdout",
     "output_type": "stream",
     "text": [
      "Value1 has a value of 22.\n",
      "22 + 33 = 55.\n",
      "This value:    22    is centered.\n",
      "Value1 as a hexadecimal value of 16.\n"
     ]
    }
   ],
   "source": [
    "Value1 = 22\n",
    "Value2 = 33\n",
    "print(f\"Value1 has a value of {Value1}.\")\n",
    "print(f\"{Value1} + {Value2} = {Value1 + Value2}.\")\n",
    "print(f\"This value: {str(Value1).center(8)} is centered.\")\n",
    "print(f\"Value1 as a hexadecimal value of {Value1:x}.\")"
   ]
  },
  {
   "cell_type": "markdown",
   "metadata": {},
   "source": [
    "## Creating and using string templates"
   ]
  },
  {
   "cell_type": "code",
   "execution_count": 11,
   "metadata": {},
   "outputs": [
    {
     "name": "stdout",
     "output_type": "stream",
     "text": [
      "1 + 2 = 3\n"
     ]
    }
   ],
   "source": [
    "from string import Template\n",
    "\n",
    "X = 1\n",
    "Y = 2\n",
    "\n",
    "Sums = Template(\"$Value1 + $Value2 = $Value3\")\n",
    "print(Sums.substitute(Value1 = X, Value2 = Y, Value3 = X + Y))"
   ]
  },
  {
   "cell_type": "code",
   "execution_count": 12,
   "metadata": {},
   "outputs": [
    {
     "name": "stdout",
     "output_type": "stream",
     "text": [
      "A + 5a = True\n"
     ]
    }
   ],
   "source": [
    "print(Sums.substitute(Value1 = 'A', Value2 = \"{:x}\".format(90), Value3 = True))"
   ]
  },
  {
   "cell_type": "code",
   "execution_count": null,
   "metadata": {},
   "outputs": [],
   "source": []
  }
 ],
 "metadata": {
  "kernelspec": {
   "display_name": "Python 3",
   "language": "python",
   "name": "python3"
  },
  "language_info": {
   "codemirror_mode": {
    "name": "ipython",
    "version": 3
   },
   "file_extension": ".py",
   "mimetype": "text/x-python",
   "name": "python",
   "nbconvert_exporter": "python",
   "pygments_lexer": "ipython3",
   "version": "3.8.3"
  }
 },
 "nbformat": 4,
 "nbformat_minor": 2
}

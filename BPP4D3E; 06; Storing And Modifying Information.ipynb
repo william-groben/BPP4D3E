{
 "cells": [
  {
   "cell_type": "markdown",
   "metadata": {},
   "source": [
    "# Defining the Essential Python Data Types"
   ]
  },
  {
   "cell_type": "markdown",
   "metadata": {},
   "source": [
    "## Putting information into variables"
   ]
  },
  {
   "cell_type": "code",
   "execution_count": 1,
   "metadata": {},
   "outputs": [
    {
     "name": "stdout",
     "output_type": "stream",
     "text": [
      "5\n"
     ]
    }
   ],
   "source": [
    "myVar = 5\n",
    "print(myVar)"
   ]
  },
  {
   "cell_type": "markdown",
   "metadata": {},
   "source": [
    "## Understanding the numeric types\n",
    "### Integers"
   ]
  },
  {
   "cell_type": "code",
   "execution_count": 2,
   "metadata": {},
   "outputs": [
    {
     "name": "stdout",
     "output_type": "stream",
     "text": [
      "100 Binary:  4\n",
      "100 Octal:  64\n",
      "100 Decimal:  100\n",
      "100 Hexadecimal: 256\n",
      "0b100000000\n",
      "0o400\n",
      "0x100\n"
     ]
    }
   ],
   "source": [
    "Test = 0b100\n",
    "print(\"100 Binary: \", Test)\n",
    "\n",
    "Test = 0o100\n",
    "print(\"100 Octal: \", Test)\n",
    "\n",
    "Test = 100\n",
    "print (\"100 Decimal: \", Test)\n",
    "\n",
    "Test = 0x100\n",
    "print(\"100 Hexadecimal:\", Test)\n",
    "\n",
    "print(bin(Test))\n",
    "print(oct(Test))\n",
    "print(hex(Test))"
   ]
  },
  {
   "cell_type": "markdown",
   "metadata": {},
   "source": [
    "### Floating-point values"
   ]
  },
  {
   "cell_type": "code",
   "execution_count": 3,
   "metadata": {},
   "outputs": [
    {
     "name": "stdout",
     "output_type": "stream",
     "text": [
      "Direct Assignment:  255.0\n",
      "Scientific Notation:  255.0\n",
      "Negative Exponent:  0.0255\n"
     ]
    }
   ],
   "source": [
    "Test = 255.0\n",
    "print(\"Direct Assignment: \", Test)\n",
    "\n",
    "Test = 2.55e2\n",
    "print(\"Scientific Notation: \", Test)\n",
    "\n",
    "Test = 2.55e-2\n",
    "print(\"Negative Exponent: \", Test)"
   ]
  },
  {
   "cell_type": "markdown",
   "metadata": {},
   "source": [
    "### Complex numbers"
   ]
  },
  {
   "cell_type": "code",
   "execution_count": 4,
   "metadata": {},
   "outputs": [
    {
     "name": "stdout",
     "output_type": "stream",
     "text": [
      "Real Part:  3.0\n",
      "Imaginary Part:  4.0\n"
     ]
    }
   ],
   "source": [
    "myComplex = 3 + 4j\n",
    "print(\"Real Part: \", myComplex.real)\n",
    "print(\"Imaginary Part: \", myComplex.imag)"
   ]
  },
  {
   "cell_type": "markdown",
   "metadata": {},
   "source": [
    "### Understanding Boolean values"
   ]
  },
  {
   "cell_type": "code",
   "execution_count": 5,
   "metadata": {},
   "outputs": [
    {
     "name": "stdout",
     "output_type": "stream",
     "text": [
      "Is 1 > 2?  False\n"
     ]
    }
   ],
   "source": [
    "myBool = 1 > 2\n",
    "print(\"Is 1 > 2? \", myBool)"
   ]
  },
  {
   "cell_type": "markdown",
   "metadata": {},
   "source": [
    "# *DETERMINING A VARIABLE’S TYPE*"
   ]
  },
  {
   "cell_type": "code",
   "execution_count": 6,
   "metadata": {},
   "outputs": [
    {
     "name": "stdout",
     "output_type": "stream",
     "text": [
      "<class 'int'>\n"
     ]
    }
   ],
   "source": [
    "myInt = 5\n",
    "print(type(myInt))"
   ]
  },
  {
   "cell_type": "markdown",
   "metadata": {},
   "source": [
    "### Understanding strings"
   ]
  },
  {
   "cell_type": "code",
   "execution_count": 7,
   "metadata": {},
   "outputs": [
    {
     "name": "stdout",
     "output_type": "stream",
     "text": [
      "65\n",
      "123\n",
      "<class 'int'>\n"
     ]
    }
   ],
   "source": [
    "print(ord(\"A\"))\n",
    "\n",
    "myInt = int(\"123\")\n",
    "print(myInt)\n",
    "\n",
    "print(type(myInt))"
   ]
  },
  {
   "cell_type": "code",
   "execution_count": 8,
   "metadata": {},
   "outputs": [
    {
     "name": "stdout",
     "output_type": "stream",
     "text": [
      "1234.56\n",
      "<class 'str'>\n"
     ]
    }
   ],
   "source": [
    "myStr = str(1234.56)\n",
    "print(myStr)\n",
    "print(type(myStr))"
   ]
  },
  {
   "cell_type": "markdown",
   "metadata": {},
   "source": [
    "# Working with Dates and Times"
   ]
  },
  {
   "cell_type": "code",
   "execution_count": 9,
   "metadata": {},
   "outputs": [
    {
     "name": "stdout",
     "output_type": "stream",
     "text": [
      "2022-04-05 16:07:38.828882\n"
     ]
    }
   ],
   "source": [
    "import datetime\n",
    "print(datetime.datetime.now())"
   ]
  },
  {
   "cell_type": "code",
   "execution_count": 10,
   "metadata": {},
   "outputs": [
    {
     "name": "stdout",
     "output_type": "stream",
     "text": [
      "2022-04-05\n"
     ]
    }
   ],
   "source": [
    "print(str(datetime.datetime.now().date()))"
   ]
  },
  {
   "cell_type": "code",
   "execution_count": null,
   "metadata": {
    "collapsed": true
   },
   "outputs": [],
   "source": []
  }
 ],
 "metadata": {
  "kernelspec": {
   "display_name": "Python 3",
   "language": "python",
   "name": "python3"
  },
  "language_info": {
   "codemirror_mode": {
    "name": "ipython",
    "version": 3
   },
   "file_extension": ".py",
   "mimetype": "text/x-python",
   "name": "python",
   "nbconvert_exporter": "python",
   "pygments_lexer": "ipython3",
   "version": "3.8.3"
  }
 },
 "nbformat": 4,
 "nbformat_minor": 2
}

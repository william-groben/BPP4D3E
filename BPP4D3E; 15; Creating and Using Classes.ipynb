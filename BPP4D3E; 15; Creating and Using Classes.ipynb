{
 "cells": [
  {
   "cell_type": "markdown",
   "metadata": {},
   "source": [
    "# Considering the Parts of a Class"
   ]
  },
  {
   "cell_type": "markdown",
   "metadata": {},
   "source": [
    "## Creating the class definition"
   ]
  },
  {
   "cell_type": "code",
   "execution_count": 1,
   "metadata": {},
   "outputs": [],
   "source": [
    "class MyClass:\n",
    "   MyVar = 0\n",
    "\n",
    "MyInstance = MyClass()\n",
    "\n",
    "MyInstance.MyVar"
   ]
  },
  {
   "cell_type": "code",
   "execution_count": 2,
   "metadata": {},
   "outputs": [],
   "source": [
    "MyInstance.__class__"
   ]
  },
  {
   "cell_type": "markdown",
   "metadata": {},
   "source": [
    "## Considering the built-in class attributes"
   ]
  },
  {
   "cell_type": "code",
   "execution_count": 3,
   "metadata": {},
   "outputs": [],
   "source": [
    "print(dir(MyInstance))"
   ]
  },
  {
   "cell_type": "code",
   "execution_count": 4,
   "metadata": {},
   "outputs": [
    {
     "name": "stdout",
     "output_type": "stream",
     "text": [
      "Help on class module in module builtins:\n",
      "\n",
      "__class__ = class module(object)\n",
      " |  __class__(name, doc=None)\n",
      " |  \n",
      " |  Create a module object.\n",
      " |  \n",
      " |  The name must be a string; the optional doc argument can have any type.\n",
      " |  \n",
      " |  Methods defined here:\n",
      " |  \n",
      " |  __delattr__(self, name, /)\n",
      " |      Implement delattr(self, name).\n",
      " |  \n",
      " |  __dir__(...)\n",
      " |      __dir__() -> list\n",
      " |      specialized dir() implementation\n",
      " |  \n",
      " |  __getattribute__(self, name, /)\n",
      " |      Return getattr(self, name).\n",
      " |  \n",
      " |  __init__(self, /, *args, **kwargs)\n",
      " |      Initialize self.  See help(type(self)) for accurate signature.\n",
      " |  \n",
      " |  __repr__(self, /)\n",
      " |      Return repr(self).\n",
      " |  \n",
      " |  __setattr__(self, name, value, /)\n",
      " |      Implement setattr(self, name, value).\n",
      " |  \n",
      " |  ----------------------------------------------------------------------\n",
      " |  Static methods defined here:\n",
      " |  \n",
      " |  __new__(*args, **kwargs) from builtins.type\n",
      " |      Create and return a new object.  See help(type) for accurate signature.\n",
      " |  \n",
      " |  ----------------------------------------------------------------------\n",
      " |  Data descriptors defined here:\n",
      " |  \n",
      " |  __dict__\n",
      "\n"
     ]
    }
   ],
   "source": [
    "help('__class__')"
   ]
  },
  {
   "cell_type": "markdown",
   "metadata": {},
   "source": [
    "## Working with methods"
   ]
  },
  {
   "cell_type": "markdown",
   "metadata": {},
   "source": [
    "### Creating class methods"
   ]
  },
  {
   "cell_type": "code",
   "execution_count": 5,
   "metadata": {},
   "outputs": [
    {
     "name": "stdout",
     "output_type": "stream",
     "text": [
      "Hello there!\n"
     ]
    }
   ],
   "source": [
    "class MyClass:\n",
    "   def SayHello():\n",
    "      print(\"Hello there!\")\n",
    "\n",
    "MyClass.SayHello()"
   ]
  },
  {
   "cell_type": "markdown",
   "metadata": {},
   "source": [
    "### Creating instance methods"
   ]
  },
  {
   "cell_type": "code",
   "execution_count": 6,
   "metadata": {},
   "outputs": [
    {
     "name": "stdout",
     "output_type": "stream",
     "text": [
      "Hello there!\n"
     ]
    }
   ],
   "source": [
    "class MyClass:\n",
    "   def SayHello(self):\n",
    "      print(\"Hello there!\")\n",
    "\n",
    "MyInstance = MyClass()\n",
    "MyInstance.SayHello()"
   ]
  },
  {
   "cell_type": "markdown",
   "metadata": {},
   "source": [
    "## Working with constructors"
   ]
  },
  {
   "cell_type": "code",
   "execution_count": 7,
   "metadata": {},
   "outputs": [
    {
     "name": "stdout",
     "output_type": "stream",
     "text": [
      "Hello there!\n"
     ]
    }
   ],
   "source": [
    "class MyClass:\n",
    "   Greeting = \"\"\n",
    "   def __init__(self, Name=\"there\"):\n",
    "      self.Greeting = Name + \"!\"\n",
    "   def SayHello(self):\n",
    "      print(\"Hello {0}\".format(self.Greeting))\n",
    "\n",
    "MyInstance = MyClass()\n",
    "MyInstance.SayHello()"
   ]
  },
  {
   "cell_type": "code",
   "execution_count": 8,
   "metadata": {},
   "outputs": [
    {
     "name": "stdout",
     "output_type": "stream",
     "text": [
      "Hello Amy!\n",
      "Hello Harry!\n"
     ]
    }
   ],
   "source": [
    "MyInstance2 = MyClass(\"Amy\")\n",
    "MyInstance2.SayHello()\n",
    "MyInstance.Greeting = \"Harry!\"\n",
    "MyInstance.SayHello()"
   ]
  },
  {
   "cell_type": "markdown",
   "metadata": {},
   "source": [
    "## Working with variables"
   ]
  },
  {
   "cell_type": "markdown",
   "metadata": {},
   "source": [
    "### Creating class variables"
   ]
  },
  {
   "cell_type": "code",
   "execution_count": 9,
   "metadata": {},
   "outputs": [
    {
     "data": {
      "text/plain": [
       "'Zelda'"
      ]
     },
     "execution_count": 9,
     "metadata": {},
     "output_type": "execute_result"
    }
   ],
   "source": [
    "class MyClass:\n",
    "   Greeting = \"\"\n",
    "   def SayHello(self):\n",
    "      print(\"Hello {0}\".format(self.Greeting))\n",
    "\n",
    "MyClass.Greeting = \"Zelda\"\n",
    "MyClass.Greeting"
   ]
  },
  {
   "cell_type": "code",
   "execution_count": 10,
   "metadata": {},
   "outputs": [
    {
     "name": "stdout",
     "output_type": "stream",
     "text": [
      "Hello Zelda\n"
     ]
    }
   ],
   "source": [
    "MyInstance = MyClass()\n",
    "MyInstance.SayHello()"
   ]
  },
  {
   "cell_type": "markdown",
   "metadata": {},
   "source": [
    "### Creating instance variables"
   ]
  },
  {
   "cell_type": "code",
   "execution_count": 11,
   "metadata": {},
   "outputs": [
    {
     "name": "stdout",
     "output_type": "stream",
     "text": [
      "The sum of 1 plus 4 is 5.\n"
     ]
    }
   ],
   "source": [
    "class MyClass:\n",
    "   def DoAdd(self, Value1=0, Value2=0):\n",
    "      Sum = Value1 + Value2\n",
    "      print(\"The sum of {0} plus {1} is {2}.\"\n",
    "            .format(Value1, Value2, Sum))\n",
    "\n",
    "MyInstance = MyClass()\n",
    "MyInstance.DoAdd(1, 4)"
   ]
  },
  {
   "cell_type": "markdown",
   "metadata": {},
   "source": [
    "## Using methods with variable argument lists"
   ]
  },
  {
   "cell_type": "code",
   "execution_count": 12,
   "metadata": {},
   "outputs": [
    {
     "name": "stdout",
     "output_type": "stream",
     "text": [
      "0. Red\n",
      "1. Blue\n",
      "2. Green\n",
      "George likes Red\n",
      "Sue likes Blue\n",
      "Zarah likes Green\n"
     ]
    }
   ],
   "source": [
    "class MyClass:\n",
    "   def PrintList1(*args):\n",
    "      for Count, Item in enumerate(args):\n",
    "         print(\"{0}. {1}\".format(Count, Item))\n",
    "   def PrintList2(**kwargs):\n",
    "      for Name, Value in kwargs.items():\n",
    "         print(\"{0} likes {1}\".format(Name, Value))\n",
    "        \n",
    "MyClass.PrintList1(\"Red\", \"Blue\", \"Green\")\n",
    "MyClass.PrintList2(George=\"Red\", Sue=\"Blue\",\n",
    "                   Zarah=\"Green\")"
   ]
  },
  {
   "cell_type": "markdown",
   "metadata": {},
   "source": [
    "## Overloading operators"
   ]
  },
  {
   "cell_type": "code",
   "execution_count": 13,
   "metadata": {},
   "outputs": [
    {
     "name": "stdout",
     "output_type": "stream",
     "text": [
      "Red Green Blue  + Yellow Purple Cyan  = Red Green Blue Yellow Purple Cyan \n"
     ]
    }
   ],
   "source": [
    "class MyClass:\n",
    "   def __init__(self, *args):\n",
    "      self.Input = args\n",
    "   def __add__(self, Other):\n",
    "      Output = MyClass()\n",
    "      Output.Input = self.Input + Other.Input\n",
    "      return Output\n",
    "   def __str__(self):\n",
    "      Output = \"\"\n",
    "      for Item in self.Input:\n",
    "         Output += Item\n",
    "         Output += \" \"\n",
    "      return Output\n",
    "Value1 = MyClass(\"Red\", \"Green\", \"Blue\")\n",
    "Value2 = MyClass(\"Yellow\", \"Purple\", \"Cyan\")\n",
    "Value3 = Value1 + Value2\n",
    "print(\"{0} + {1} = {2}\"\n",
    "      .format(Value1, Value2, Value3))"
   ]
  },
  {
   "cell_type": "markdown",
   "metadata": {},
   "source": [
    "# Creating and Using an External Class\n",
    "The code in this section will only work well with __Jupyter Notebook__.  It isn't intended for use with __Google Colab__ because it can be difficult to create and use external `.py` files with Google Colab."
   ]
  },
  {
   "cell_type": "markdown",
   "metadata": {},
   "source": [
    "## Developing the external class\n",
    "This code actually appears in the `BPP4D3E; 15; MyClass.ipynb` file and you must create that file before proceeding with this section. Once you have created and imported the external class file, then you can proceed with the sections that follow in this file."
   ]
  },
  {
   "cell_type": "markdown",
   "metadata": {},
   "source": [
    "## Using MyClass in an application"
   ]
  },
  {
   "cell_type": "code",
   "execution_count": 14,
   "metadata": {},
   "outputs": [
    {
     "name": "stdout",
     "output_type": "stream",
     "text": [
      "32\n",
      "Amy\n",
      "Sam is aged 33.\n",
      "Aimee is aged 44.\n"
     ]
    }
   ],
   "source": [
    "import BPP4D3E_15_MyClass\n",
    "\n",
    "SamsRecord = BPP4D3E_15_MyClass.MyClass()\n",
    "AmysRecord = BPP4D3E_15_MyClass.MyClass(\"Amy\", 44)\n",
    "\n",
    "print(SamsRecord.GetAge())\n",
    "SamsRecord.SetAge(33)\n",
    "\n",
    "print(AmysRecord.GetName())\n",
    "AmysRecord.SetName(\"Aimee\")\n",
    "\n",
    "print(SamsRecord)\n",
    "print(AmysRecord)"
   ]
  },
  {
   "cell_type": "markdown",
   "metadata": {},
   "source": [
    "# Extending Classes to Make New Classes"
   ]
  },
  {
   "cell_type": "markdown",
   "metadata": {},
   "source": [
    "## Building the child class"
   ]
  },
  {
   "cell_type": "code",
   "execution_count": 15,
   "metadata": {},
   "outputs": [],
   "source": [
    "class Animal:\n",
    "   def __init__(self, Name=\"\", Age=0, Type=\"\"):\n",
    "      self.Name = Name\n",
    "      self.Age = Age\n",
    "      self.Type = Type\n",
    "   def GetName(self):\n",
    "      return self.Name\n",
    "   def SetName(self, Name):\n",
    "      self.Name = Name\n",
    "   def GetAge(self):\n",
    "      return self.Age\n",
    "   def SetAge(self, Age):\n",
    "      self.Age = Age\n",
    "   def GetType(self):\n",
    "      return self.Type\n",
    "   def SetType(self, Type):\n",
    "      self.Type = Type\n",
    "   def __str__(self):\n",
    "      return \"{0} is a {1} aged {2}\".format(self.Name,\n",
    "                                            self.Type,\n",
    "                                            self.Age)\n",
    "class Chicken(Animal):\n",
    "   def __init__(self, Name=\"\", Age=0):\n",
    "      self.Name = Name\n",
    "      self.Age = Age\n",
    "      self.Type = \"Chicken\"\n",
    "   def SetType(self, Type):\n",
    "      print(\"Sorry, {0} will always be a {1}\"\n",
    "            .format(self.Name, self.Type))\n",
    "   def MakeSound(self):\n",
    "      print(\"{0} says Cluck, Cluck, Cluck!\".format(self.Name))"
   ]
  },
  {
   "cell_type": "markdown",
   "metadata": {},
   "source": [
    "## Testing class inheritance in an application"
   ]
  },
  {
   "cell_type": "code",
   "execution_count": 16,
   "metadata": {},
   "outputs": [
    {
     "name": "stdout",
     "output_type": "stream",
     "text": [
      "Sally is a Chicken aged 2\n",
      "Sally is a Chicken aged 3\n",
      "Sorry, Sally will always be a Chicken\n",
      "Sally is a Chicken aged 3\n",
      "Sally says Cluck, Cluck, Cluck!\n"
     ]
    }
   ],
   "source": [
    "MyChicken = Chicken(\"Sally\", 2)\n",
    "print(MyChicken)\n",
    "\n",
    "MyChicken.SetAge(MyChicken.GetAge() + 1)\n",
    "print(MyChicken)\n",
    "\n",
    "MyChicken.SetType(\"Gorilla\")\n",
    "print(MyChicken)\n",
    "\n",
    "MyChicken.MakeSound()"
   ]
  },
  {
   "cell_type": "code",
   "execution_count": null,
   "metadata": {},
   "outputs": [],
   "source": []
  }
 ],
 "metadata": {
  "kernelspec": {
   "display_name": "Python 3",
   "language": "python",
   "name": "python3"
  },
  "language_info": {
   "codemirror_mode": {
    "name": "ipython",
    "version": 3
   },
   "file_extension": ".py",
   "mimetype": "text/x-python",
   "name": "python",
   "nbconvert_exporter": "python",
   "pygments_lexer": "ipython3",
   "version": "3.8.3"
  }
 },
 "nbformat": 4,
 "nbformat_minor": 2
}
